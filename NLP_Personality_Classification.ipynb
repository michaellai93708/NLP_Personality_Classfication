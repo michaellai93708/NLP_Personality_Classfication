{
 "cells": [
  {
   "cell_type": "markdown",
   "metadata": {
    "id": "MGHoy6KpQDfZ"
   },
   "source": [
    "# 2022 COMP5046 Assignment 1\n",
    "*Make sure you change the file name with your unikey.*"
   ]
  },
  {
   "cell_type": "markdown",
   "metadata": {
    "id": "qTf21j_oQIiD"
   },
   "source": [
    "# Readme (PLEASE DO NOT RUN ANY CODE IN SECTION 4)\n",
    "PLEASE DO NOT RUN any code in section 4 since some of the graphs/tables were made automatically from train/test trails. Running any code in section 4 may result in loss of table/graph.\n",
    "Thank you \n",
    "\n",
    "The object oriented programming codes section was not used, just simply running all codes before section 4 would do the work.\n",
    "\n",
    "In section 4.1, I found that only using glove-twitter-100 embedding produced the best weighted F1 score. Therefore, in section 1 through 3 and section 5, I used only one embedding model. However, embedding concatenation was used in section 4.1 to determine the accuracies of different word embedding."
   ]
  },
  {
   "cell_type": "markdown",
   "metadata": {
    "id": "iXbQohXLKSgO"
   },
   "source": [
    "***Visualising the comparison of different results is a good way to justify your decision.***"
   ]
  },
  {
   "cell_type": "markdown",
   "metadata": {
    "id": "A7v4GVxo4Dom"
   },
   "source": [
    "# 1 - Data Preprocessing"
   ]
  },
  {
   "cell_type": "markdown",
   "metadata": {
    "id": "HftyG77k47Y3"
   },
   "source": [
    "## 1.0. Data Collection [DO NOT MODIFY THIS]"
   ]
  },
  {
   "cell_type": "code",
   "execution_count": 2,
   "metadata": {
    "colab": {
     "base_uri": "https://localhost:8080/"
    },
    "id": "U7C4snIcNl22",
    "outputId": "aec03284-8207-4cb2-cb70-cd2b917c6296"
   },
   "outputs": [
    {
     "name": "stdout",
     "output_type": "stream",
     "text": [
      "------------------------------------\n",
      "Size of training dataset: 7808\n",
      "Size of testing dataset: 867\n",
      "------------------------------------\n",
      "------------------------------------\n",
      "Sample Data\n",
      "LABEL: F / SENTENCE: 'Half of it is going straight to charity, another quarter going straight to scientific research, an eighth to the parkour community, a sixteenth to towards spreading information about health and...|||Find a path or suffer more.|||http://personalitycafe.com/enneagram-personality-theory-forum/85323-enneagram-type-mbti-type-compared-statistics.html yep.|||I kind of anchor on Fi and Ne makes having Ni really fun. INFP for me as they tire me out less and our views tend to align more.|||The two ESTPs I have gotten the chance to know seem to experience much more than other people who have been on the planet for the same amount of time and are quite the renaissance (wo)men.  Is this...|||I don't really have a best friend ISTP(passion-amateur group co-founder), INTJ(intellectual and various small hobbies talk), ESTP(Bro-in-law, talk about everything kind of like my INTJ friend),...|||Everyone looses their gift if they don't even consider a different perspective.|||Kansas - ISTJ|||That or if they are normally comfortable with me, such as a friend or close acquaintance, they feel the need to start talking. It's almost a trap, I've noticed for most people feel the need to expose...|||To me, your answers screamed introverted feeling. Answers 2-5, 10, 11, 14, 16, and 17 your last statement were particularly Fi-like. I'm guessing you are an intuitive and possibly and introvert...|||Could you explain your reasoning for these? I saw Mako as an F, Lin as an ES, and have Kya as an F. Never had an idea for Amon's type.|||This applies to many of these threads.|||With an INFP for over 2 years now.|||After watching tonight's episode I'm sure that Unalaq is an ENXJ. I'm not sure if it's Fe or Te at this point but the way he goes about doing and planning things seem like a Je-dom. I'm putting him...|||Parkour is my passion(but I consider it closer to a martial art than a sport). I also enjoy some running and climbing.|||I have many characters but I gravitate towards sneaky archer, Breton, and conjuration. I love doing role plays and think it's one of, if not the best way to play the game.|||ESFP seems right for Ikki. We may need Jinora to have more interactions for us to tell. Any guesses about Pema, Tenzin's wife? She said herself that she used to be very shy so I'd put I just from...|||If you don't mind, please tell me more by what you meant by this bolded part or what happened.|||I think it's fit to revive this thread seeing as the second season of Korra has started and the second episode of the season is coming up tomorrow. I'd just say beware of spoilers in new posts if you...|||I was thinking more along these lines: 83385|||Yes, a few times in friendships and other things but it was usually spurred on by the idea of not having a second chance. I've been trying to make the first move more in life as I've realized it just...|||Sorry if my wording was/is confusing or vague. Let me try to explain it better.  As for the first statement: I see the world for all it's interconnections. If you wish, visualized everything having...|||~I don't experience it as simply perceiving or creating, for me as I perceive interconnected relationships are formed and realized.   ~I don't think that I rationalize with my dominate function but...|||I think it's amusing that, in the leading position I share with an ISTP friend of mine, we both start to embrace our shadows. I Think that's been my growing point lately, embracing my shadow. We're...|||I would suggest introspection and relying on your sense of self over tests and I highly suggest looking into the cognitive functions. ISTJ is the complete opposite of INFJ.|||I definitely agree with others on the US- It's pretty good for an INFJ if you find your niche.  I say the Midwest is generally SJ with women expected to be F and men to be T. It's nice but annoying....|||Please explain|||I think my own eye movements have almost been changed because of where I was usually placed when talking to someone in normal conversations. See, when I was young I ended up getting permanent spot in...|||Judgmental, critical, somewhat narcissistic, stubborn, possessive, Fe-ishly manipulative, and I have ego issues. Take that with a grain of salt.|||Yes, very much so. I love Spanish so far.|||I have a huge folder of these types of images.|||Aquarian It was just my guess, it doesn't need that much merit. Personally, I think Se is the hardest function to describe because it is so in the moment.|||Sorry, double post because of connectivity weirdness.|||I don't know if this has been posted before or if a thread about curses would be the best place but it'll do just fine. The important part is post #79, the giant wall of text. I think most of it was...|||If anything, imo, Ni would be how objects are interconnected. If I were to follow closely to your model: Introverted Intuition: Understanding how objects are connected Extraverted Intuition:...|||Sometimes you just don't see them :ninja: Seriously, I thought I was alone in a small town but I was surprised after training for a couple months.  You can easily learn and train by yourself, you...|||82063 Stuff by Andy Day, not only do I like it because it is the stuff of my passion but that new perspective of our surroundings that it brings. This is a great example of that. All those people...|||Sorry for the quality, my relative only gave me a physical copy, it's a picture of a picture. This is my INFP girlfriend of two years and me.|||If I am with my SO I almost need physical contact in some way.|||I pretty much have a guru dream that involves my SP wannabe passion. Around people I am close to I totally put on the gypsy king face, people are just so interesting. Hahaha can't stop laughing at ...|||I agree this this post very much, I just can't shake that vibe. To me it feels like you are an INTP who strongly identifies with INFJs. I think if you want a sound answer form yourself and others we...|||I do pretty well in emergencies, I do very well compared to normal conditions in my opinion. I feel like I become the ideal version of myself, for the most part. It's hard to describe but it's like...|||I have a very close INTJ friend. The Te Fe difference is acknowledged very well and I'd say that both of our tertiary functions are well developed which helps a ton. He does not show it often but he...|||Being alone and/or doing something physical that I can naturally and reactively do without thinking or little thought.|||Pretty much this|||If I wear shoes or socks to bed and my feet are not on my bed I will wake up as if I was falling. 2/3 of the time this happens. Any other dreams that I remember(I don't remember most of my dreams...|||This one still gets me.  What I meant to say was Pass the salt but what I really said was You b****, you ruined my life|||I'm sorry, but I find them so funny because I use them for good reason. They make people uncomfortable at first but then, slowly, make people more comfortable with the idea that people are different...|||XSFJ Mother, ISTJ father, and an XNFJ sister. Yep.|||I love dark jokes, especially racists/stereotypical jokes.'\n",
      "------------------------------------\n"
     ]
    }
   ],
   "source": [
    "# Code to download file into Colaboratory:\n",
    "!pip install -U -q PyDrive\n",
    "from pydrive.auth import GoogleAuth\n",
    "from pydrive.drive import GoogleDrive\n",
    "from google.colab import auth\n",
    "from oauth2client.client import GoogleCredentials\n",
    "# Authenticate and create the PyDrive client.\n",
    "auth.authenticate_user()\n",
    "gauth = GoogleAuth()\n",
    "gauth.credentials = GoogleCredentials.get_application_default()\n",
    "drive = GoogleDrive(gauth)\n",
    "\n",
    "id = '16g474hdNsaNx0_SnoKuqj2BuwSEGdnbt'\n",
    "downloaded = drive.CreateFile({'id':id}) \n",
    "downloaded.GetContentFile('training_data.csv')  \n",
    "\n",
    "id = '1-7hj0sF3Rc5G6POKdkpbDXm_Q6BWFDPU'\n",
    "downloaded = drive.CreateFile({'id':id}) \n",
    "downloaded.GetContentFile('testing_data.csv')  \n",
    "\n",
    "import pandas as pd\n",
    "training_data = pd.read_csv(\"/content/training_data.csv\")\n",
    "testing_data = pd.read_csv(\"/content/testing_data.csv\")\n",
    "\n",
    "print(\"------------------------------------\")\n",
    "print(\"Size of training dataset: {0}\".format(len(training_data)))\n",
    "print(\"Size of testing dataset: {0}\".format(len(testing_data)))\n",
    "print(\"------------------------------------\")\n",
    "\n",
    "print(\"------------------------------------\")\n",
    "print(\"Sample Data\")\n",
    "print(\"LABEL: {0} / SENTENCE: {1}\".format(training_data.iloc[-1,0], training_data.iloc[-1,1]))\n",
    "print(\"------------------------------------\")\n"
   ]
  },
  {
   "cell_type": "code",
   "execution_count": 3,
   "metadata": {
    "colab": {
     "base_uri": "https://localhost:8080/",
     "height": 221
    },
    "id": "WIHEbmSQp3fh",
    "outputId": "2b0ef1c7-4873-4aaa-d702-d65ab15e0311"
   },
   "outputs": [
    {
     "data": {
      "text/html": [
       "\n",
       "  <div id=\"df-7ccd6d27-4b91-4b65-a90c-cbfd99799bde\">\n",
       "    <div class=\"colab-df-container\">\n",
       "      <div>\n",
       "<style scoped>\n",
       "    .dataframe tbody tr th:only-of-type {\n",
       "        vertical-align: middle;\n",
       "    }\n",
       "\n",
       "    .dataframe tbody tr th {\n",
       "        vertical-align: top;\n",
       "    }\n",
       "\n",
       "    .dataframe thead th {\n",
       "        text-align: right;\n",
       "    }\n",
       "</style>\n",
       "<table border=\"1\" class=\"dataframe\">\n",
       "  <thead>\n",
       "    <tr style=\"text-align: right;\">\n",
       "      <th></th>\n",
       "      <th>type</th>\n",
       "      <th>posts</th>\n",
       "    </tr>\n",
       "  </thead>\n",
       "  <tbody>\n",
       "    <tr>\n",
       "      <th>0</th>\n",
       "      <td>F</td>\n",
       "      <td>'http://www.youtube.com/watch?v=qsXHcwe3krw|||...</td>\n",
       "    </tr>\n",
       "    <tr>\n",
       "      <th>1</th>\n",
       "      <td>T</td>\n",
       "      <td>'I'm finding the lack of me in these posts ver...</td>\n",
       "    </tr>\n",
       "    <tr>\n",
       "      <th>2</th>\n",
       "      <td>T</td>\n",
       "      <td>'Good one  _____   https://www.youtube.com/wat...</td>\n",
       "    </tr>\n",
       "    <tr>\n",
       "      <th>3</th>\n",
       "      <td>T</td>\n",
       "      <td>'Dear INTP,   I enjoyed our conversation the o...</td>\n",
       "    </tr>\n",
       "    <tr>\n",
       "      <th>4</th>\n",
       "      <td>T</td>\n",
       "      <td>'You're fired.|||That's another silly misconce...</td>\n",
       "    </tr>\n",
       "  </tbody>\n",
       "</table>\n",
       "</div>\n",
       "      <button class=\"colab-df-convert\" onclick=\"convertToInteractive('df-7ccd6d27-4b91-4b65-a90c-cbfd99799bde')\"\n",
       "              title=\"Convert this dataframe to an interactive table.\"\n",
       "              style=\"display:none;\">\n",
       "        \n",
       "  <svg xmlns=\"http://www.w3.org/2000/svg\" height=\"24px\"viewBox=\"0 0 24 24\"\n",
       "       width=\"24px\">\n",
       "    <path d=\"M0 0h24v24H0V0z\" fill=\"none\"/>\n",
       "    <path d=\"M18.56 5.44l.94 2.06.94-2.06 2.06-.94-2.06-.94-.94-2.06-.94 2.06-2.06.94zm-11 1L8.5 8.5l.94-2.06 2.06-.94-2.06-.94L8.5 2.5l-.94 2.06-2.06.94zm10 10l.94 2.06.94-2.06 2.06-.94-2.06-.94-.94-2.06-.94 2.06-2.06.94z\"/><path d=\"M17.41 7.96l-1.37-1.37c-.4-.4-.92-.59-1.43-.59-.52 0-1.04.2-1.43.59L10.3 9.45l-7.72 7.72c-.78.78-.78 2.05 0 2.83L4 21.41c.39.39.9.59 1.41.59.51 0 1.02-.2 1.41-.59l7.78-7.78 2.81-2.81c.8-.78.8-2.07 0-2.86zM5.41 20L4 18.59l7.72-7.72 1.47 1.35L5.41 20z\"/>\n",
       "  </svg>\n",
       "      </button>\n",
       "      \n",
       "  <style>\n",
       "    .colab-df-container {\n",
       "      display:flex;\n",
       "      flex-wrap:wrap;\n",
       "      gap: 12px;\n",
       "    }\n",
       "\n",
       "    .colab-df-convert {\n",
       "      background-color: #E8F0FE;\n",
       "      border: none;\n",
       "      border-radius: 50%;\n",
       "      cursor: pointer;\n",
       "      display: none;\n",
       "      fill: #1967D2;\n",
       "      height: 32px;\n",
       "      padding: 0 0 0 0;\n",
       "      width: 32px;\n",
       "    }\n",
       "\n",
       "    .colab-df-convert:hover {\n",
       "      background-color: #E2EBFA;\n",
       "      box-shadow: 0px 1px 2px rgba(60, 64, 67, 0.3), 0px 1px 3px 1px rgba(60, 64, 67, 0.15);\n",
       "      fill: #174EA6;\n",
       "    }\n",
       "\n",
       "    [theme=dark] .colab-df-convert {\n",
       "      background-color: #3B4455;\n",
       "      fill: #D2E3FC;\n",
       "    }\n",
       "\n",
       "    [theme=dark] .colab-df-convert:hover {\n",
       "      background-color: #434B5C;\n",
       "      box-shadow: 0px 1px 3px 1px rgba(0, 0, 0, 0.15);\n",
       "      filter: drop-shadow(0px 1px 2px rgba(0, 0, 0, 0.3));\n",
       "      fill: #FFFFFF;\n",
       "    }\n",
       "  </style>\n",
       "\n",
       "      <script>\n",
       "        const buttonEl =\n",
       "          document.querySelector('#df-7ccd6d27-4b91-4b65-a90c-cbfd99799bde button.colab-df-convert');\n",
       "        buttonEl.style.display =\n",
       "          google.colab.kernel.accessAllowed ? 'block' : 'none';\n",
       "\n",
       "        async function convertToInteractive(key) {\n",
       "          const element = document.querySelector('#df-7ccd6d27-4b91-4b65-a90c-cbfd99799bde');\n",
       "          const dataTable =\n",
       "            await google.colab.kernel.invokeFunction('convertToInteractive',\n",
       "                                                     [key], {});\n",
       "          if (!dataTable) return;\n",
       "\n",
       "          const docLinkHtml = 'Like what you see? Visit the ' +\n",
       "            '<a target=\"_blank\" href=https://colab.research.google.com/notebooks/data_table.ipynb>data table notebook</a>'\n",
       "            + ' to learn more about interactive tables.';\n",
       "          element.innerHTML = '';\n",
       "          dataTable['output_type'] = 'display_data';\n",
       "          await google.colab.output.renderOutput(dataTable, element);\n",
       "          const docLink = document.createElement('div');\n",
       "          docLink.innerHTML = docLinkHtml;\n",
       "          element.appendChild(docLink);\n",
       "        }\n",
       "      </script>\n",
       "    </div>\n",
       "  </div>\n",
       "  "
      ],
      "text/plain": [
       "  type                                              posts\n",
       "0    F  'http://www.youtube.com/watch?v=qsXHcwe3krw|||...\n",
       "1    T  'I'm finding the lack of me in these posts ver...\n",
       "2    T  'Good one  _____   https://www.youtube.com/wat...\n",
       "3    T  'Dear INTP,   I enjoyed our conversation the o...\n",
       "4    T  'You're fired.|||That's another silly misconce..."
      ]
     },
     "execution_count": 3,
     "metadata": {},
     "output_type": "execute_result"
    }
   ],
   "source": [
    "# Preview of the data in the csv file, which has two columns: \n",
    "# (1)type - label of the post (2)posts - the corresponding post content\n",
    "training_data.head()"
   ]
  },
  {
   "cell_type": "code",
   "execution_count": 4,
   "metadata": {
    "id": "0SvGBOm9DvR_"
   },
   "outputs": [],
   "source": [
    "# Extract the labels and posts and store into List\n",
    "# Get the list of training data (posts)\n",
    "training_posts=training_data['posts'].tolist()\n",
    "# Get the list of corresponding labels for the training data (posts)\n",
    "training_labels=training_data['type'].tolist()\n",
    "# Get the list of testing data (posts)\n",
    "testing_posts=testing_data['posts'].tolist()\n",
    "# Get the list of corresponding labels for the testing data (posts)\n",
    "testing_labels=testing_data['type'].tolist()"
   ]
  },
  {
   "cell_type": "markdown",
   "metadata": {
    "id": "l9gBSgBCQh24"
   },
   "source": [
    "## 1.1. URL Removal\n",
    "*related to the section 4.2*"
   ]
  },
  {
   "cell_type": "code",
   "execution_count": 5,
   "metadata": {
    "colab": {
     "base_uri": "https://localhost:8080/"
    },
    "id": "emyl1lWxGr12",
    "outputId": "0ac02768-5423-482e-83b0-cfff3246a0e6"
   },
   "outputs": [
    {
     "name": "stdout",
     "output_type": "stream",
     "text": [
      "' does, indeed, help. To answer the question, my IQ is 129, and it was professionally administered. But, it doesn't mean anything to me--I don't need a number to tell me I'm intelligent, I...|||Shall I play you a song on the world's smallest violin?|||I really don't get how you guys think she's an introvert. She's said many times about how extroverted she is, and she was voted Most Talkative by her high school. I can see an introvert being...|||Assuming morality is absolute, can you explain to me the absolute best moral choice out of every situation? I'm assuming you cannot, and on who's authority should we accept these truths? It cannot be...|||Hello all,  I originally joined this site in late 2009, and I lurked for many months before. I had just turned 19 and started college , in search of myself, and I used this forum to help discover...|||1. Log in after a week or so of not being on here. 2. Look at INFJ forum, sees that all the new threads are already ones that I've seen and discussed in the past. 3. Check the new posts in case I...|||I hope everyone realizes the difference between a nice guy and a, well, nice guy.|||www.youtube.com/watch?v=DOX9l4Ys7NY|||I would retire my account since I don't ever come on here anymore (and I don't really care about MBTI anymore), but why put an unnecessary restriction on myself?|||I'm not a virgin. In some ways, I still wish I was--I lost my virginity to someone who I wasn't in love with. The girl I'm with right now is, and if it weren't for that one girl, I would be too and...|||I'm 21. I'm young, amirite?|||Having the feeling of being alone.  Being able to tell a lot about a person just by their energy. It's almost like I've known them for years. And then, if they find this out, it freaks them out....||| think it might be more of a biological thing and how you were raised more than how it is based on your type, but I can see how type could play a part.  As for me....yeah, I'm nowhere near an...|||I suppose I still am, but I've lowered my standards so much to where I date people I don't even like, probably just to not feel alone. I'm a little disgusted with myself at the moment.||| know what you mean. I've had this same problem for the longest time, and I too can seem to spark relationships better over text. Weird. But, anyways, I've just forced myself to be a little more...|||I can imagine most INFJs can relate to this.    trust test results. That being said, I could very well be an INFJ type 3.|||My views have always been that I will never have sex with someone that I know is just gonna lead to sex and that's it. Up to this point, I've followed through to that, because I can't imagine giving...|||For me, like most of you, it comes out very early on, but I try to control my tongue for as long as I can, so I hardly ever say it at all, at least intentionally. At the beginning, I think, it's less...|||Right now I'm debating whether I'm an ENTP or INFJ.  Sounds very strange, but both of them fit me.|||Who doesn't get a little genocidal every now and then?|||Walter may actually be an INFJ, not an INTJ. The reason I say this is that it's VERY clear to me that Gus is an INTJ, but there seems to be some variance between them. I'll be able to explain more...|||Bout damn time!|||I'm a dude, so it's kind of embarrassing that I like this show, but it ain't too bad. The only two I know are Lorelai and Rory, and they're ESFP and INFJ/ISFJ, respectively.|||   would say you're an ESFP or ENFP, probably leaning stronger with ESFP over ENFP.  You're not introverted. At all.|||Are you seriously basing your dating life based on some Personality Theory that may or may not be bullshit?|||I seriously hope this is a joke thread. It's getting that bad that I can't tell if someone is trolling, or just flat out fucking stupid.  As for who's going to win--unless Romeny wins the...|||Congratulations??|||I never made one in the first place, so.....hey?  I'm not sure why I'm even making this, as I'm probably just gonna retire this account soon anyway, but, ya know, just thought I'd make one.|||You're typism.  Honestly, I don't really have a specific type that annoys me. Stupid annoys me, not type.  That being said, for the love of FSM and all that is holy, I am NEVER, EVER, EVER...||| this isn't the first time you've posted something like this in the two years I've been here, it's in all likelihood depression, dude. I had the same symptoms for, oh, 7 years or so, and when I...|||I'm my own partner.|||EDIT I guess that's what I get for not reading the whole post.|||Can I come tuck you in?|||You're probably a 3, then.  I'm a type three myself, and I fall into the more reserved category with most people. I would still consider myself extroverted, but people who talk nonstop actually get...||| common. I'm a 3, but a 3w4, not a 3w2.|||Not at all ENTP. I'd say ISTP, or ESTP if that doesn't work.||| the words right out of my mouth.|||Just so everyone's clear, getting a percentage on a MBTI doesn't mean you're 75% introvert. It means you can be pretty confident you're an introvert.  Back on topic, I'm pretty much certain that...|||Yeah, same thing happened to me. Fuckers.  Dear stupid people--just because I don't show it doesn't mean I'm not judging you. At least you keep me entertained.  Excuse my misogyny, but fuck...|||Tell me about it. But, ironically, I'm dating a girl from California who moved over here a while ago, and I met her through Ok Cupid. Didn't actually expect that thing to produce results, but it has!...|||I'd say Obama is most definitely an ENFJ. Speaking to common values, but sticking to his own internal vision, etc.  Sarah Palin--ESFJ  Ronald Reagan--Hard to tell. Probably ESTP in my opnion. ...'\n"
     ]
    }
   ],
   "source": [
    "import re\n",
    "training_posts_no_url, testing_posts_no_url = [], []\n",
    "for i in training_posts:\n",
    "    result = re.sub(r\"http\\S+\", \"\", i)\n",
    "    training_posts_no_url.append(result)\n",
    "for j in testing_posts:\n",
    "    result = re.sub(r\"http\\S+\", \"\", j)\n",
    "    testing_posts_no_url.append(result)\n",
    "print(testing_posts_no_url[1])"
   ]
  },
  {
   "cell_type": "markdown",
   "metadata": {
    "id": "QzLAO5a25qzS"
   },
   "source": [
    "## 1.2. Preprocess data (e.g. Stop words, Stemming)\n",
    "*related to the section 4.2*"
   ]
  },
  {
   "cell_type": "code",
   "execution_count": 6,
   "metadata": {
    "colab": {
     "base_uri": "https://localhost:8080/"
    },
    "id": "jl7t5Vqo5_gq",
    "outputId": "746ad45b-3773-4a6b-e45d-9fd5d46c9db3"
   },
   "outputs": [
    {
     "name": "stdout",
     "output_type": "stream",
     "text": [
      "[nltk_data] Downloading package punkt to /root/nltk_data...\n",
      "[nltk_data]   Package punkt is already up-to-date!\n",
      "[nltk_data] Downloading package stopwords to /root/nltk_data...\n",
      "[nltk_data]   Package stopwords is already up-to-date!\n",
      "[nltk_data] Downloading package wordnet to /root/nltk_data...\n",
      "[nltk_data]   Package wordnet is already up-to-date!\n",
      "['F' 'T']\n",
      "[0 1]\n"
     ]
    }
   ],
   "source": [
    "import re\n",
    "import nltk\n",
    "nltk.download('punkt')\n",
    "from nltk.tokenize import word_tokenize\n",
    "nltk.download('stopwords')\n",
    "from nltk.corpus import stopwords as sw\n",
    "stop_words = sw.words('english')\n",
    "from nltk.stem.porter import *\n",
    "stemmer = PorterStemmer()\n",
    "from nltk.stem import WordNetLemmatizer\n",
    "nltk.download('wordnet')\n",
    "lemmatizer = WordNetLemmatizer()\n",
    "\n",
    "import numpy as np\n",
    "from sklearn.preprocessing import LabelEncoder\n",
    "\n",
    "def remove_number(x):\n",
    "    x =  re.sub(r'[0-9]+', '', x)\n",
    "    return x\n",
    "def remove_punctuation_re(x):\n",
    "    x = re.sub(r'[^\\w\\s]', '', x)\n",
    "    return x\n",
    "def pre_process(input_list):\n",
    "    # Converting to lower case\n",
    "    lower = [s.lower() for s in input_list]\n",
    "    # Removing number \n",
    "    remove_num = [remove_number(s) for s in lower]\n",
    "    # Removing punctuation\n",
    "    remove_pun = [remove_punctuation_re(s) for s in remove_num]\n",
    "    # Tokenization \n",
    "    Tokenized = [word_tokenize(s) for s in remove_pun]\n",
    "    # Removing stop words\n",
    "    remove_sw = []\n",
    "    for tokens in Tokenized:\n",
    "        filtered_sentence = [w for w in tokens if not w in stop_words]\n",
    "        remove_sw.append(filtered_sentence)\n",
    "    # Stemming\n",
    "    result = []\n",
    "    for tokens in remove_sw:\n",
    "        stemmed = [stemmer.stem(s) for s in tokens]\n",
    "        result.append(stemmed)\n",
    "    # Lemmatization\n",
    "    #result = []\n",
    "    #for tokens in result_1:\n",
    "    #    lemma_sentence = [lemmatizer.lemmatize(w) for w in tokens ]\n",
    "    #    result.append(lemma_sentence)\n",
    "    return result\n",
    "# Label Encoding\n",
    "unique_labels = np.unique(training_labels)\n",
    "lEnc = LabelEncoder()\n",
    "training_labels_encoded = lEnc.fit_transform(training_labels)\n",
    "testing_labels_encoded = lEnc.transform(testing_labels)\n",
    "n_class = len(unique_labels)\n",
    "print(unique_labels)\n",
    "print(lEnc.transform(unique_labels))"
   ]
  },
  {
   "cell_type": "code",
   "execution_count": 7,
   "metadata": {
    "id": "O1ZS7laCxEAN"
   },
   "outputs": [],
   "source": [
    "training_posts_no_url_processed = pre_process(training_posts_no_url)\n",
    "testing_posts_no_url_processed = pre_process(testing_posts_no_url)"
   ]
  },
  {
   "cell_type": "markdown",
   "metadata": {
    "id": "W65YgG-YVFFS"
   },
   "source": [
    "\n",
    "\n",
    "---\n",
    "\n"
   ]
  },
  {
   "cell_type": "markdown",
   "metadata": {
    "id": "6sAZNIg5927R"
   },
   "source": [
    "# 2 - Input Representation\n"
   ]
  },
  {
   "cell_type": "markdown",
   "metadata": {
    "id": "daDvAftceIvr"
   },
   "source": [
    "## 2.1. Word Embedding Construction\n",
    "*related to the section 4.1 and 4.3*\n"
   ]
  },
  {
   "cell_type": "code",
   "execution_count": 8,
   "metadata": {
    "colab": {
     "base_uri": "https://localhost:8080/"
    },
    "id": "Jw8I1QBk-EhG",
    "outputId": "b15cd053-c37d-4b03-d1ca-d6358fa455d3"
   },
   "outputs": [
    {
     "name": "stdout",
     "output_type": "stream",
     "text": [
      "7808\n",
      "867\n",
      "8675\n"
     ]
    }
   ],
   "source": [
    "print(len(training_posts_no_url_processed))\n",
    "print(len(testing_posts_no_url_processed))\n",
    "emb_list = []\n",
    "for i in training_posts_no_url_processed:\n",
    "    emb_list.append(i)\n",
    "for j in testing_posts_no_url_processed:\n",
    "    emb_list.append(j)\n",
    "print(len(emb_list))"
   ]
  },
  {
   "cell_type": "code",
   "execution_count": 9,
   "metadata": {
    "id": "6VO64b8gxHfG"
   },
   "outputs": [],
   "source": [
    "# Training Embedding model 1\n",
    "from gensim.models import Word2Vec\n",
    "word_emb_model_1 = Word2Vec(emb_list, size=100, window=5, min_count=0, workers=-1, sg=1)"
   ]
  },
  {
   "cell_type": "markdown",
   "metadata": {
    "id": "LNys5HOdISK-"
   },
   "source": [
    "## 2.2. Pretrained Word Embedding\n",
    "*related to the section 4.3*"
   ]
  },
  {
   "cell_type": "code",
   "execution_count": 10,
   "metadata": {
    "id": "Ae8i7Z2kIef-"
   },
   "outputs": [],
   "source": [
    "# Download Embedding model from gensim\n",
    "import gensim.downloader as api\n",
    "word_emb_model_2 = api.load(\"glove-twitter-100\")"
   ]
  },
  {
   "cell_type": "markdown",
   "metadata": {
    "id": "T0ap96aeGlIk"
   },
   "source": [
    "## 2.3. Input Concatenation\n",
    "*related to the section 4.3*"
   ]
  },
  {
   "cell_type": "code",
   "execution_count": 11,
   "metadata": {
    "id": "jw_N9J7Tx1MI"
   },
   "outputs": [],
   "source": [
    "def concat(word_emb_model_1, word_emb_model_2):\n",
    "    emb_dim = word_emb_model_1.vector_size + word_emb_model_2.vector_size\n",
    "    emb_table = []\n",
    "    for i, word in enumerate(word_list):\n",
    "        if word in word_emb_model_1 and word in word_emb_model_2:\n",
    "            emb_table.append(np.concatenate((word_emb_model_1[word], word_emb_model_2[word]),0))\n",
    "        elif word in word_emb_model_1 and word not in word_emb_model_2:\n",
    "            emb_table.append(np.concatenate((word_emb_model_1[word], [0]*word_emb_model_2.vector_size),0))\n",
    "        elif word in word_emb_model_1 and word not in word_emb_model_2:\n",
    "            emb_table.append(np.concatenate(([0]*word_emb_model_1.vector_size, word_emb_model_2[word]),0))\n",
    "        else:\n",
    "            emb_table.append([0]*emb_dim)\n",
    "    emb_table = np.array(emb_table)\n",
    "    return emb_table, emb_dim"
   ]
  },
  {
   "cell_type": "code",
   "execution_count": 12,
   "metadata": {
    "id": "i2CUCL1cGlI2"
   },
   "outputs": [],
   "source": [
    "word_set = set() \n",
    "for sent in emb_list:\n",
    "    for word in sent:\n",
    "        word_set.add(word)\n",
    "\n",
    "word_set.add('[PAD]')\n",
    "word_set.add('[UNKNOWN]')\n",
    "\n",
    "word_list = list(word_set) \n",
    "word_list.sort()\n",
    "word_index = {}\n",
    "ind = 0\n",
    "for word in word_list:\n",
    "    word_index[word] = ind\n",
    "    ind += 1\n",
    "\n",
    "import numpy as np\n",
    "\n",
    "emb_dim = word_emb_model_2.vector_size\n",
    "emb_table = []\n",
    "for i, word in enumerate(word_list):\n",
    "    if word in word_emb_model_2:\n",
    "        emb_table.append(word_emb_model_2[word])\n",
    "    else:\n",
    "        emb_table.append([0]*emb_dim)\n",
    "emb_table = np.array(emb_table)\n",
    "    \n",
    "# Padding & Encoding\n",
    "seq_length = 100\n",
    "def encode_and_add_padding(sentences, seq_length, word_index):\n",
    "    sent_encoded = []\n",
    "    for sent in sentences:\n",
    "        temp_encoded = [word_index[word] if word in word_index else word_index['[UNKNOWN]'] for word in sent]\n",
    "        if len(temp_encoded) < seq_length:\n",
    "            temp_encoded += [word_index['[PAD]']] * (seq_length - len(temp_encoded))\n",
    "        sent_encoded.append(temp_encoded[:100])\n",
    "    return sent_encoded\n",
    "\n",
    "train_pad_encoded_no_url = encode_and_add_padding(training_posts_no_url_processed, seq_length, word_index )\n",
    "test_pad_encoded_no_url = encode_and_add_padding(testing_posts_no_url_processed, seq_length, word_index )"
   ]
  },
  {
   "cell_type": "markdown",
   "metadata": {
    "id": "LIu_lkJwQ55g"
   },
   "source": [
    "# 3 - Model Implementation"
   ]
  },
  {
   "cell_type": "markdown",
   "metadata": {
    "id": "DpYCL17JKZxl"
   },
   "source": [
    "### 3.1. Build Sequence Model (Bi-directional model)\n",
    "*related to the section 4.4*"
   ]
  },
  {
   "cell_type": "code",
   "execution_count": 13,
   "metadata": {
    "id": "13eCtR_SLUG6"
   },
   "outputs": [],
   "source": [
    "vocab_size = len(word_list)\n",
    "total_epoch = 100\n",
    "learning_rate = 0.001\n",
    "\n",
    "import torch\n",
    "device = torch.device(\"cuda\" if torch.cuda.is_available() else \"cpu\")\n",
    "import numpy as np\n",
    "import torch.nn as nn\n",
    "import torch.nn.functional as F\n",
    "import torch.optim as optim\n",
    "from sklearn.metrics import accuracy_score\n",
    "\n",
    "class Model(nn.Module):\n",
    "    def __init__(self):\n",
    "        super(Model, self).__init__()\n",
    "        self.emb = nn.Embedding(vocab_size, emb_dim)\n",
    "        self.emb.weight.data.copy_(torch.from_numpy(emb_table))\n",
    "        self.emb.weight.requires_grad = False\n",
    "        n_hidden = 50\n",
    "        self.lstm = nn.LSTM(emb_dim, n_hidden, batch_first =True, bidirectional=True)\n",
    "        self.linear = nn.Linear(n_hidden*2, n_class)\n",
    "\n",
    "    def forward(self, x):\n",
    "        x = self.emb(x)\n",
    "        lstm_out, (h_n, c_n) = self.lstm(x)\n",
    "        hidden_out = torch.cat((h_n[0,:,:],h_n[1,:,:]),1)\n",
    "        z = self.linear(hidden_out)\n",
    "        return z\n",
    "\n",
    "model = Model().to(device)\n",
    "criterion = nn.CrossEntropyLoss()\n",
    "optimizer = optim.Adam(model.parameters(), lr=learning_rate)\n"
   ]
  },
  {
   "cell_type": "markdown",
   "metadata": {
    "id": "6BaOiaGRLW7R"
   },
   "source": [
    "### 3.2. Train Sequence Model (Bi-directional model)\n",
    "\n",
    "*related to the section 4.4*\n",
    "\n",
    "Note that it will not be marked if you do not display the Training Loss and the Number of Epochs in the Assignment 1 ipynb.\n"
   ]
  },
  {
   "cell_type": "code",
   "execution_count": 14,
   "metadata": {
    "colab": {
     "base_uri": "https://localhost:8080/"
    },
    "id": "lVQnUSX1LZ6C",
    "outputId": "86009282-fb4e-4fe8-b507-0c00765a87af"
   },
   "outputs": [
    {
     "name": "stdout",
     "output_type": "stream",
     "text": [
      "Epoch: 10, loss: 0.68408, train_acc: 0.55\n",
      "Epoch: 20, loss: 0.67492, train_acc: 0.58\n",
      "Epoch: 30, loss: 0.66023, train_acc: 0.61\n",
      "Epoch: 40, loss: 0.62605, train_acc: 0.64\n",
      "Epoch: 50, loss: 0.60115, train_acc: 0.67\n",
      "Epoch: 60, loss: 0.58173, train_acc: 0.69\n",
      "Epoch: 70, loss: 0.56929, train_acc: 0.70\n",
      "Epoch: 80, loss: 0.55278, train_acc: 0.72\n",
      "Epoch: 90, loss: 0.54061, train_acc: 0.73\n",
      "Epoch: 100, loss: 0.52580, train_acc: 0.74\n",
      "Finished Training\n"
     ]
    }
   ],
   "source": [
    "input_torch = torch.from_numpy(np.array(train_pad_encoded_no_url)).to(device)\n",
    "target_torch = torch.from_numpy(np.array(training_labels_encoded)).view(-1).to(device)\n",
    "\n",
    "for epoch in range(total_epoch):      \n",
    "    model.train()\n",
    "    optimizer.zero_grad()\n",
    "    outputs = model(input_torch) \n",
    "    loss = criterion(outputs, target_torch)\n",
    "    loss.backward()\n",
    "    optimizer.step()\n",
    "    if epoch%10 == 9:\n",
    "        predicted = torch.argmax(outputs, -1)\n",
    "        acc= accuracy_score(predicted.cpu().numpy(),target_torch.cpu().numpy())\n",
    "\n",
    "        print('Epoch: %d, loss: %.5f, train_acc: %.2f' %(epoch + 1, loss.item(), acc))\n",
    "\n",
    "print('Finished Training')\n",
    "torch.save(model, '/content/bi_LSTM.pt')"
   ]
  },
  {
   "cell_type": "markdown",
   "metadata": {
    "id": "a4mpRpocePLN"
   },
   "source": [
    "# 4 - Evaluation\n"
   ]
  },
  {
   "cell_type": "markdown",
   "metadata": {
    "id": "lbLBzHObsvvM"
   },
   "source": [
    "## 4.1. Word Embedding Evaluation\n",
    "You are to apply Semantic-Syntactic word relationship tests for the trained word embeddings and visualise the result of Semantic-Syntactic word relationship tests.\n",
    "Note that it will not be marked if you do not display it in the ipynb file.\n"
   ]
  },
  {
   "cell_type": "markdown",
   "metadata": {
    "id": "MSIUsb7qtQEf"
   },
   "source": [
    "(*Please show your empirical evidence and justification*)\n",
    "\n",
    "\n"
   ]
  },
  {
   "cell_type": "code",
   "execution_count": null,
   "metadata": {
    "colab": {
     "base_uri": "https://localhost:8080/"
    },
    "id": "tCrcXwcGsuuo",
    "outputId": "b4b93e19-a8b0-4cbb-d67d-4aa05e0d3ab6"
   },
   "outputs": [
    {
     "name": "stdout",
     "output_type": "stream",
     "text": [
      "Cloning into 'GloVe'...\n",
      "remote: Enumerating objects: 606, done.\u001b[K\n",
      "remote: Counting objects: 100% (14/14), done.\u001b[K\n",
      "remote: Compressing objects: 100% (12/12), done.\u001b[K\n",
      "remote: Total 606 (delta 5), reused 7 (delta 2), pack-reused 592\u001b[K\n",
      "Receiving objects: 100% (606/606), 224.91 KiB | 1.80 MiB/s, done.\n",
      "Resolving deltas: 100% (343/343), done.\n"
     ]
    }
   ],
   "source": [
    "!git clone https://github.com/stanfordnlp/GloVe.git\n",
    "import numpy as np\n",
    "def evaluate_vectors(W, vocab, prefix='./eval/question-data/'):\n",
    "    \"\"\"Evaluate the trained word vectors on a variety of tasks\"\"\"\n",
    "    filenames = [\n",
    "        'capital-common-countries.txt', 'capital-world.txt', 'currency.txt',\n",
    "        'city-in-state.txt', 'family.txt', 'gram1-adjective-to-adverb.txt',\n",
    "        'gram2-opposite.txt', 'gram3-comparative.txt', 'gram4-superlative.txt',\n",
    "        'gram5-present-participle.txt', 'gram6-nationality-adjective.txt',\n",
    "        'gram7-past-tense.txt', 'gram8-plural.txt', 'gram9-plural-verbs.txt',\n",
    "        ]\n",
    "    split_size = 100\n",
    "    correct_sem = 0; \n",
    "    correct_syn = 0;\n",
    "    correct_tot = 0\n",
    "    count_sem = 0; \n",
    "    count_syn = 0; \n",
    "    count_tot = 0 \n",
    "    full_count = 0 \n",
    "    for i in range(len(filenames)):\n",
    "        with open('%s/%s' % (prefix, filenames[i]), 'r') as f:\n",
    "            full_data = [line.rstrip().split(' ') for line in f]\n",
    "            full_count += len(full_data)\n",
    "            data = [x for x in full_data if all(word in vocab for word in x)]\n",
    "        if len(data) == 0:\n",
    "            continue\n",
    "        indices = np.array([[vocab[word] for word in row] for row in data])\n",
    "        ind1, ind2, ind3, ind4 = indices.T\n",
    "        predictions = np.zeros((len(indices),))\n",
    "        num_iter = int(np.ceil(len(indices) / float(split_size)))\n",
    "        for j in range(num_iter):\n",
    "            subset = np.arange(j*split_size, min((j + 1)*split_size, len(ind1)))\n",
    "            pred_vec = (W[ind2[subset], :] - W[ind1[subset], :]\n",
    "                +  W[ind3[subset], :])\n",
    "            dist = np.dot(W, pred_vec.T)\n",
    "            for k in range(len(subset)):\n",
    "                dist[ind1[subset[k]], k] = -np.Inf\n",
    "                dist[ind2[subset[k]], k] = -np.Inf\n",
    "                dist[ind3[subset[k]], k] = -np.Inf\n",
    "            predictions[subset] = np.argmax(dist, 0).flatten()\n",
    "        val = (ind4 == predictions) \n",
    "        count_tot = count_tot + len(ind1)\n",
    "        correct_tot = correct_tot + sum(val)\n",
    "        if i < 5:\n",
    "            count_sem = count_sem + len(ind1)\n",
    "            correct_sem = correct_sem + sum(val)\n",
    "        else:\n",
    "            count_syn = count_syn + len(ind1)\n",
    "            correct_syn = correct_syn + sum(val)        \n",
    "    return correct_sem, correct_syn, correct_tot, count_sem, count_syn, count_tot, full_count\n",
    "\n",
    "def emb_eva(directory):\n",
    "    with open(directory, 'r') as f:\n",
    "      vectors = {}\n",
    "      for line in f.readlines()[1:]:\n",
    "        vals = line.rstrip().split(' ')\n",
    "        vectors[vals[0]] = [float(x) for x in vals[1:]]\n",
    "    vocab_words=list(vectors.keys())\n",
    "    vocab_size = len(vocab_words)\n",
    "    vocab = {w: idx for idx, w in enumerate(vocab_words)}\n",
    "    ivocab = {idx: w for idx, w in enumerate(vocab_words)}\n",
    "    vector_dim = len(vectors[ivocab[0]])\n",
    "    W = np.zeros((vocab_size, vector_dim))\n",
    "    for word, v in vectors.items():\n",
    "        if word == '<unk>':\n",
    "            continue\n",
    "        W[vocab[word], :] = v\n",
    "    W_norm = np.zeros(W.shape)\n",
    "    d = (np.sum(W ** 2, 1) ** (0.5))\n",
    "    W_norm = (W.T / d).T\n",
    "    correct_sem, correct_syn, correct_tot, count_sem, count_syn, count_tot, full_count = evaluate_vectors(W_norm, vocab, prefix='/content/GloVe/eval/question-data')\n",
    "    sem_acc = (100 * correct_sem / float(count_sem))\n",
    "    syn_acc = (100 * correct_syn / float(count_syn))\n",
    "    total_acc = (100 * correct_tot / float(count_tot))\n",
    "    return (sem_acc, syn_acc, total_acc)"
   ]
  },
  {
   "cell_type": "code",
   "execution_count": null,
   "metadata": {
    "colab": {
     "base_uri": "https://localhost:8080/"
    },
    "id": "I6Enzf8Q04H8",
    "outputId": "d70b7295-e7cb-4012-a05a-f7e9924118d0"
   },
   "outputs": [
    {
     "name": "stdout",
     "output_type": "stream",
     "text": [
      "Word2Vec Skip Gram size 20 & window size 5\n",
      "15.210355987055015 7.432762836185819 8.453695836873408\n",
      "Word2Vec Skip Gram size 50 & window size 5\n",
      "23.948220064724918 14.572127139364303 15.802888700084962\n",
      "Word2Vec Skip Gram size 100 & window size 5\n",
      "24.271844660194176 17.066014669926652 18.011894647408667\n",
      "Word2Vec Skip Gram size 200 & window size 5\n",
      "24.919093851132686 18.141809290953546 19.03143585386576\n",
      "Word2Vec Skip Gram size 400 & window size 5\n",
      "22.653721682847895 17.750611246943766 18.394222599830076\n",
      "Word2Vec Skip Gram size 100 & window size 5\n",
      "25.566343042071196 18.82640586797066 19.711129991503824\n",
      "Word2Vec Skip Gram size 100 & window size 10\n",
      "25.24271844660194 12.51833740831296 14.188615123194563\n",
      "Word2Vec Skip Gram size 100 & window size 20\n",
      "23.948220064724918 7.970660146699267 10.067969413763807\n"
     ]
    }
   ],
   "source": [
    "from gensim.models import Word2Vec\n",
    "from gensim.models import FastText\n",
    "\n",
    "dimension = [20, 50, 100, 200, 400]\n",
    "window_size = [5, 10, 20]\n",
    "sem_dim, syn_dim, total_dim = [], [], []\n",
    "sem_win, syn_win, total_win = [], [], []\n",
    "for i in dimension:\n",
    "    print(\"Word2Vec Skip Gram size {} & window size 5\".format(i))\n",
    "    model = Word2Vec(training_posts_no_url_processed + testing_posts_no_url_processed,\n",
    "                         size=i, window=5, min_count=5, workers=2, sg=1)\n",
    "    \n",
    "    model.wv.save_word2vec_format(\"/content/w2v_\"+str(i)+\"_5.txt\", \n",
    "                                  binary = False)\n",
    "    sem_acc, syn_acc, total_acc = emb_eva(\"/content/w2v_\"+str(i)+\"_5.txt\")\n",
    "    print(sem_acc, syn_acc, total_acc)\n",
    "    sem_dim.append(sem_acc)\n",
    "    syn_dim.append(syn_acc)\n",
    "    total_dim.append(total_acc)\n",
    "\n",
    "\n",
    "for j in window_size:\n",
    "    print(\"Word2Vec Skip Gram size 100 & window size {}\".format(j))\n",
    "    model = Word2Vec(training_posts_no_url_processed + testing_posts_no_url_processed,\n",
    "                         size=100, window=j, min_count=5, workers=2, sg=1)\n",
    "    model.wv.save_word2vec_format(\"/content/w2v_100_\"+str(j)+\".txt\", \n",
    "                                  binary = False)\n",
    "    sem_acc, syn_acc, total_acc = emb_eva(\"/content/w2v_100_\"+str(j)+\".txt\")\n",
    "    print(sem_acc, syn_acc, total_acc)\n",
    "    sem_win.append(sem_acc)\n",
    "    syn_win.append(syn_acc)\n",
    "    total_win.append(total_acc)\n"
   ]
  },
  {
   "cell_type": "code",
   "execution_count": null,
   "metadata": {
    "colab": {
     "base_uri": "https://localhost:8080/"
    },
    "id": "xq_p4L8HN7vK",
    "outputId": "f0ebc9d8-a6a9-495f-8cba-489c1c488262"
   },
   "outputs": [
    {
     "name": "stdout",
     "output_type": "stream",
     "text": [
      "Accuracy vs Dimension\n",
      "+---------------------+-------------+---------------+--------+--------+---------+\n",
      "| Model               |   Dimension |   Window size | Sem.   | Syn.   | Total   |\n",
      "+=====================+=============+===============+========+========+=========+\n",
      "| Fast Text Skip Gram |          20 |             5 | 15.21% | 7.43%  | 8.45%   |\n",
      "+---------------------+-------------+---------------+--------+--------+---------+\n",
      "| Fast Text Skip Gram |          50 |             5 | 23.95% | 14.57% | 15.80%  |\n",
      "+---------------------+-------------+---------------+--------+--------+---------+\n",
      "| Fast Text Skip Gram |         100 |             5 | 24.27% | 17.07% | 18.01%  |\n",
      "+---------------------+-------------+---------------+--------+--------+---------+\n",
      "| Fast Text Skip Gram |         200 |            10 | 24.92% | 18.14% | 19.03%  |\n",
      "+---------------------+-------------+---------------+--------+--------+---------+\n",
      "| Fast Text Skip Gram |         400 |            10 | 22.65% | 17.75% | 18.39%  |\n",
      "+---------------------+-------------+---------------+--------+--------+---------+\n",
      "\n",
      "================================================================================\n",
      "\n",
      "Accuracy vs Window size\n",
      "+---------------------+-------------+---------------+--------+--------+---------+\n",
      "| Model               |   Dimension |   Window size | Sem.   | Syn.   | Total   |\n",
      "+=====================+=============+===============+========+========+=========+\n",
      "| Fast Text Skip Gram |         100 |             5 | 25.57% | 18.83% | 19.71%  |\n",
      "+---------------------+-------------+---------------+--------+--------+---------+\n",
      "| Fast Text Skip Gram |         100 |            10 | 25.24% | 12.52% | 14.19%  |\n",
      "+---------------------+-------------+---------------+--------+--------+---------+\n",
      "| Fast Text Skip Gram |         100 |            20 | 23.95% | 7.97%  | 10.07%  |\n",
      "+---------------------+-------------+---------------+--------+--------+---------+\n"
     ]
    }
   ],
   "source": [
    "from tabulate import tabulate\n",
    "print(\"Accuracy vs Dimension\")\n",
    "mydata = [\n",
    "          [\"Fast Text Skip Gram\", \"20\", \"5\", \n",
    "           \"{:.2f}%\".format(sem_dim[0]), \"{:.2f}%\".format(syn_dim[0]), \n",
    "           \"{:.2f}%\".format(total_dim[0])\n",
    "           ],\n",
    "          [\"Fast Text Skip Gram\", \"50\", \"5\", \n",
    "           \"{:.2f}%\".format(sem_dim[1]), \"{:.2f}%\".format(syn_dim[1]), \n",
    "           \"{:.2f}%\".format(total_dim[1])\n",
    "           ],\n",
    "          [\"Fast Text Skip Gram\", \"100\", \"5\", \n",
    "           \"{:.2f}%\".format(sem_dim[2]), \"{:.2f}%\".format(syn_dim[2]), \n",
    "           \"{:.2f}%\".format(total_dim[2])\n",
    "           ],\n",
    "          [\"Fast Text Skip Gram\", \"200\", \"10\", \n",
    "           \"{:.2f}%\".format(sem_dim[3]), \"{:.2f}%\".format(syn_dim[3]), \n",
    "           \"{:.2f}%\".format(total_dim[3])\n",
    "           ],\n",
    "          [\"Fast Text Skip Gram\", \"400\", \"10\", \n",
    "           \"{:.2f}%\".format(sem_dim[4]), \"{:.2f}%\".format(syn_dim[4]), \n",
    "           \"{:.2f}%\".format(total_dim[4])\n",
    "           ]\n",
    "]\n",
    "head = [\"Model\", \"Dimension\", \"Window size\", \"Sem.\", \"Syn.\", \"Total\"]\n",
    "# display table\n",
    "print(tabulate(mydata, headers=head, tablefmt=\"grid\"))\n",
    "print(\"\")\n",
    "print(\"==\" * 40)\n",
    "print(\"\")\n",
    "print(\"Accuracy vs Window size\")\n",
    "mydata_win = [\n",
    "          [\"Fast Text Skip Gram\", \"100\", \"5\", \n",
    "           \"{:.2f}%\".format(sem_win[0]), \"{:.2f}%\".format(syn_win[0]), \n",
    "           \"{:.2f}%\".format(total_win[0])\n",
    "           ],\n",
    "          [\"Fast Text Skip Gram\", \"100\", \"10\", \n",
    "           \"{:.2f}%\".format(sem_win[1]), \"{:.2f}%\".format(syn_win[1]), \n",
    "           \"{:.2f}%\".format(total_win[1])\n",
    "           ],\n",
    "          [\"Fast Text Skip Gram\", \"100\", \"20\", \n",
    "           \"{:.2f}%\".format(sem_win[2]), \"{:.2f}%\".format(syn_win[2]), \n",
    "           \"{:.2f}%\".format(total_win[2])\n",
    "           ]\n",
    "]\n",
    "head = [\"Model\", \"Dimension\", \"Window size\", \"Sem.\", \"Syn.\", \"Total\"]\n",
    "# display table\n",
    "print(tabulate(mydata_win, headers=head, tablefmt=\"grid\"))"
   ]
  },
  {
   "cell_type": "code",
   "execution_count": null,
   "metadata": {
    "colab": {
     "base_uri": "https://localhost:8080/",
     "height": 594
    },
    "id": "32NxYMqRz-2S",
    "outputId": "b386d005-a712-4b3f-e4a9-8ab234ec986d"
   },
   "outputs": [
    {
     "data": {
      "image/png": "[encoded data removed]",
      "text/plain": [
       "<Figure size 432x288 with 1 Axes>"
      ]
     },
     "metadata": {
      "needs_background": "light"
     },
     "output_type": "display_data"
    },
    {
     "data": {
      "image/png": "[encoded data removed]",
      "text/plain": [
       "<Figure size 432x288 with 1 Axes>"
      ]
     },
     "metadata": {
      "needs_background": "light"
     },
     "output_type": "display_data"
    }
   ],
   "source": [
    "import matplotlib.pyplot as plt\n",
    "import numpy as np\n",
    "xpoints = np.array([20, 50, 100, 200, 400])\n",
    "y_sem = np.array(sem_dim)\n",
    "y_syn = np.array(syn_dim)\n",
    "y_total = np.array(total_dim)\n",
    "plt.plot(xpoints, y_sem, color = 'r', label = \"Semantic\", marker = \"^\")\n",
    "plt.plot(xpoints, y_syn, color = 'g', label = \"Synatatic\", marker = \"s\")\n",
    "plt.plot(xpoints, y_total, color = 'blue', label = \"Overall\", marker = \"o\")\n",
    "plt.legend(loc=\"lower right\")\n",
    "plt.title(\"Accuracy vs Dimension\")\n",
    "plt.xlabel('Dimension of the vectors') \n",
    "plt.ylabel('Accuracy in %') \n",
    "plt.show()\n",
    "\n",
    "xpoints = 5, 10, 20\n",
    "y_sem = np.array(sem_win)\n",
    "y_syn = np.array(syn_win)\n",
    "y_total = np.array(total_win)\n",
    "plt.plot(xpoints, y_sem, color = 'r', label = \"Semantic\", marker = \"^\")\n",
    "plt.plot(xpoints, y_syn, color = 'g', label = \"Synatatic\", marker = \"s\")\n",
    "plt.plot(xpoints, y_total, color = 'blue', label = \"Overall\", marker = \"o\")\n",
    "plt.legend(loc=\"lower right\")\n",
    "plt.title(\"Accuracy vs Window size\")\n",
    "plt.xlabel('Window size') \n",
    "plt.ylabel('Accuracy in %') \n",
    "plt.show()\n"
   ]
  },
  {
   "cell_type": "markdown",
   "metadata": {
    "id": "RlyjR_QCEv8o"
   },
   "source": [
    "As shown in the figures. In terms of the dimension of embeddings vectors, the accuracies increased rapidly from size 0 to 100. The larger the vector dimension, the more aspects of the words can be expressed, therefore higher the accuracies. While with dimension sizes larger than 100, the accuracy improvements were demolished. Which was the problem Mikolov and his team faced, which they solved by increasing the size of training data while increasing the vector dimension (Mikolov et al., 2013). Explanations for this problem might be that some features may carry false information when training with large dimension sizes. The small size of the training data might also contribute since some words in the test set had not appeared in the training set.<br>\n",
    "In terms of window size, larger window size led to lower accuracies. According to Levy and Goldberg, one of the explanations could be that a larger window size would lead the word embedding to be more topic-related (Levy & Goldberg, 2014). Meaning that the embedding trained with a larger window size would result in an embedding that is more MBTI related. Yet, the topics were not significantly MBTI-related for the test set. They were more about the words themselves, which caused embedding trained with larger window sizes to result in lower accuracies. \n",
    "1.   Mikolov, T., Chen, K., Corrado, G., &amp; Dean, J. (2013). Efficient estimation of word representations in vector space. \n",
    "2.   Levy, O., &amp; Goldberg, Y. (2014). Dependency-based word embeddings. Proceedings of the 52nd Annual Meeting of the Association for Computational Linguistics (Volume 2: Short Papers). https://doi.org/10.3115/v1/p14-2050 \n",
    "\n"
   ]
  },
  {
   "cell_type": "markdown",
   "metadata": {
    "id": "KEW1zMgVMREr"
   },
   "source": [
    "## 4.2. Performance Evaluation with Data Processing Techiques\n",
    "\n",
    "\n",
    "You are required to evaluate with the testing dataset and provide the table with f1 of test set.\n",
    "Note that it will not be marked if you do not display it in the ipynb file.\n"
   ]
  },
  {
   "cell_type": "markdown",
   "metadata": {
    "id": "oVCF0bwTtRS0"
   },
   "source": [
    "(*Please show your empirical evidence and justification*)\n",
    "\n"
   ]
  },
  {
   "cell_type": "code",
   "execution_count": null,
   "metadata": {
    "colab": {
     "base_uri": "https://localhost:8080/"
    },
    "id": "LPHCb-bneTI9",
    "outputId": "ccbee28a-dea6-4356-c5a7-249c7910c4e0"
   },
   "outputs": [
    {
     "name": "stdout",
     "output_type": "stream",
     "text": [
      "              precision    recall  f1-score   support\n",
      "\n",
      "           0       0.65      0.63      0.64       467\n",
      "           1       0.59      0.61      0.60       400\n",
      "\n",
      "    accuracy                           0.62       867\n",
      "   macro avg       0.62      0.62      0.62       867\n",
      "weighted avg       0.62      0.62      0.62       867\n",
      "\n"
     ]
    }
   ],
   "source": [
    "import torch\n",
    "device = torch.device(\"cuda\" if torch.cuda.is_available() else \"cpu\")\n",
    "# Load model bi-LSTM without url\n",
    "model_without_url= torch.load(\"/content/bi_LSTM.pt\")\n",
    "input_torch = torch.from_numpy(np.array(test_pad_encoded_no_url)).to(device)\n",
    "outputs = model_without_url(input_torch) \n",
    "predicted = torch.argmax(outputs, -1)\n",
    "\n",
    "from sklearn.metrics import classification_report\n",
    "print(classification_report(testing_labels_encoded,predicted.cpu().numpy()))"
   ]
  },
  {
   "cell_type": "code",
   "execution_count": null,
   "metadata": {
    "id": "tHl53DZTM0OZ"
   },
   "outputs": [],
   "source": [
    "training_posts_processed = pre_process(training_posts)\n",
    "testing_posts_processed = pre_process(testing_posts)\n",
    "print(len(training_posts_processed))\n",
    "print(len(testing_posts_processed))\n",
    "emb_list = []\n",
    "for i in training_posts_processed:\n",
    "    emb_list.append(i)\n",
    "for j in testing_posts_processed:\n",
    "    emb_list.append(j)\n",
    "print(len(emb_list))\n",
    "from gensim.models import FastText\n",
    "word_emb_model_1_with_url = FastText(emb_list, size=200, window=5, min_count=0, workers=-1, sg=1)\n",
    "word_set = set() \n",
    "for sent in emb_list:\n",
    "    for word in sent:\n",
    "        word_set.add(word)\n",
    "word_set.add('[PAD]')\n",
    "word_set.add('[UNKNOWN]')\n",
    "word_list = list(word_set) \n",
    "word_list = list(word_set) \n",
    "word_list.sort()\n",
    "word_index = {}\n",
    "ind = 0\n",
    "for word in word_list:\n",
    "    word_index[word] = ind\n",
    "    ind += 1\n",
    "import numpy as np\n",
    "emb_dim = word_emb_model_1_with_url.vector_size + word_emb_model_2.vector_size\n",
    "emb_table = []\n",
    "for i, word in enumerate(word_list):\n",
    "    if word in word_emb_model_1_with_url and word in word_emb_model_2:\n",
    "        emb_table.append(np.concatenate((word_emb_model_1_with_url[word], word_emb_model_2[word]),0))\n",
    "    elif word in word_emb_model_1_with_url and word not in word_emb_model_2:\n",
    "        emb_table.append(np.concatenate((word_emb_model_1_with_url[word], [0]*word_emb_model_2.vector_size),0))\n",
    "    elif word in word_emb_model_1_with_url and word not in word_emb_model_2:\n",
    "        emb_table.append(np.concatenate(([0]*word_emb_model_1_with_url.vector_size, word_emb_model_2[word]),0))\n",
    "    else:\n",
    "        emb_table.append([0]*emb_dim)\n",
    "emb_table = np.array(emb_table)\n",
    "# Padding & Encoding\n",
    "seq_length = 100\n",
    "def encode_and_add_padding(sentences, seq_length, word_index):\n",
    "    sent_encoded = []\n",
    "    for sent in sentences:\n",
    "        temp_encoded = [word_index[word] if word in word_index else word_index['[UNKNOWN]'] for word in sent]\n",
    "        if len(temp_encoded) < seq_length:\n",
    "            temp_encoded += [word_index['[PAD]']] * (seq_length - len(temp_encoded))\n",
    "        sent_encoded.append(temp_encoded[:100])\n",
    "    return sent_encoded\n",
    "\n",
    "train_pad_encoded = encode_and_add_padding(training_posts_processed, seq_length, word_index )\n",
    "test_pad_encoded= encode_and_add_padding(testing_posts_processed, seq_length, word_index )"
   ]
  },
  {
   "cell_type": "code",
   "execution_count": null,
   "metadata": {
    "id": "LFc7PosOesvc"
   },
   "outputs": [],
   "source": [
    "input_torch = torch.from_numpy(np.array(train_pad_encoded)).to(device)\n",
    "target_torch = torch.from_numpy(np.array(training_labels_encoded)).view(-1).to(device)\n",
    "for epoch in range(total_epoch):      \n",
    "    model.train()\n",
    "    optimizer.zero_grad()\n",
    "    outputs = model(input_torch) \n",
    "    loss = criterion(outputs, target_torch)\n",
    "    loss.backward()\n",
    "    optimizer.step()\n",
    "    if epoch%10 == 9:\n",
    "        predicted = torch.argmax(outputs, -1)\n",
    "        acc= accuracy_score(predicted.cpu().numpy(),target_torch.cpu().numpy())\n",
    "\n",
    "        print('Epoch: %d, loss: %.5f, train_acc: %.2f' %(epoch + 1, loss.item(), acc))\n",
    "\n",
    "print('Finished Training')\n",
    "torch.save(model, '/content/bi_LSTM_with_url.pt')"
   ]
  },
  {
   "cell_type": "code",
   "execution_count": null,
   "metadata": {
    "id": "8OwTnA-pI0JH"
   },
   "outputs": [],
   "source": [
    "import torch\n",
    "device = torch.device(\"cuda\" if torch.cuda.is_available() else \"cpu\")\n",
    "# Load model bi-LSTM with url\n",
    "model_without_url= torch.load('/content/bi_LSTM_with_url.pt')\n",
    "input_torch = torch.from_numpy(np.array(test_pad_encoded)).to(device)\n",
    "outputs = model_without_url(input_torch) \n",
    "predicted = torch.argmax(outputs, -1)\n",
    "\n",
    "from sklearn.metrics import classification_report\n",
    "print(classification_report(testing_labels_encoded,predicted.cpu().numpy()))"
   ]
  },
  {
   "cell_type": "code",
   "execution_count": null,
   "metadata": {
    "id": "s9CSf8yVfkOD"
   },
   "outputs": [],
   "source": [
    "'''import re\n",
    "import nltk\n",
    "nltk.download('punkt')\n",
    "from nltk.tokenize import word_tokenize\n",
    "nltk.download('stopwords')\n",
    "from nltk.corpus import stopwords as sw\n",
    "stop_words = sw.words('english')\n",
    "from nltk.stem.porter import *\n",
    "stemmer = PorterStemmer()\n",
    "from nltk.stem import WordNetLemmatizer\n",
    "nltk.download('wordnet')\n",
    "lemmatizer = WordNetLemmatizer()\n",
    "\n",
    "import numpy as np\n",
    "from sklearn.preprocessing import LabelEncoder\n",
    "\n",
    "def remove_number(x):\n",
    "    x =  re.sub(r'[0-9]+', '', x)\n",
    "    return x\n",
    "def remove_punctuation_re(x):\n",
    "    x = re.sub(r'[^\\w\\s]', '', x)\n",
    "    return x\n",
    "def pre_process_2(input_list):\n",
    "    # Converting to lower case\n",
    "    lower = [s.lower() for s in input_list]\n",
    "    # Removing number \n",
    "    remove_num = [remove_number(s) for s in lower]\n",
    "    # Removing punctuation\n",
    "    remove_pun = [remove_punctuation_re(s) for s in remove_num]\n",
    "    # Tokenization \n",
    "    Tokenized = [word_tokenize(s) for s in remove_pun]\n",
    "    # Removing stop words\n",
    "    #for tokens in Tokenized:\n",
    "    #    filtered_sentence = [w for w in tokens if not w in stop_words]\n",
    "    #    remove_sw.append(filtered_sentence)\n",
    "    # Stemming\n",
    "    result_1 = []\n",
    "    for tokens in Tokenized:\n",
    "        stemmed = [stemmer.stem(s) for s in tokens]\n",
    "        result_1.append(stemmed)\n",
    "    # Lemmatization\n",
    "    result = []\n",
    "    for tokens in result_1:\n",
    "        lemma_sentence = [lemmatizer.lemmatize(w) for w in tokens ]\n",
    "        result.append(lemma_sentence)\n",
    "    return result\n",
    "\n",
    "training_posts_no_url_no_sw_processed = pre_process_2(training_posts_no_url)\n",
    "testing_posts_no_url_no_sw_processed = pre_process_2(testing_posts_no_url)'''"
   ]
  },
  {
   "cell_type": "code",
   "execution_count": null,
   "metadata": {
    "id": "AbGnw5eggbsd"
   },
   "outputs": [],
   "source": [
    "'''emb_list = []\n",
    "for i in training_posts_no_url_no_sw_processed:\n",
    "    emb_list.append(i)\n",
    "for j in testing_posts_no_url_no_sw_processed:\n",
    "    emb_list.append(j)\n",
    "print(len(emb_list))\n",
    "from gensim.models import FastText\n",
    "word_emb_model_1_with_url = FastText(emb_list, size=200, window=5, min_count=0, workers=-1, sg=1)\n",
    "\n",
    "word_set = set() \n",
    "for sent in emb_list:\n",
    "    for word in sent:\n",
    "        word_set.add(word)\n",
    "\n",
    "word_set.add('[PAD]')\n",
    "word_set.add('[UNKNOWN]')\n",
    "\n",
    "word_list = list(word_set) \n",
    "word_list = list(word_set) \n",
    "word_list.sort()\n",
    "\n",
    "word_index = {}\n",
    "ind = 0\n",
    "for word in word_list:\n",
    "    word_index[word] = ind\n",
    "    ind += 1\n",
    "\n",
    "import numpy as np\n",
    "emb_dim = word_emb_model_1_with_url.vector_size + word_emb_model_2.vector_size\n",
    "emb_table = []\n",
    "for i, word in enumerate(word_list):\n",
    "    if word in word_emb_model_1_with_url and word in word_emb_model_2:\n",
    "        emb_table.append(np.concatenate((word_emb_model_1_with_url[word], word_emb_model_2[word]),0))\n",
    "    elif word in word_emb_model_1_with_url and word not in word_emb_model_2:\n",
    "        emb_table.append(np.concatenate((word_emb_model_1_with_url[word], [0]*word_emb_model_2.vector_size),0))\n",
    "    elif word in word_emb_model_1_with_url and word not in word_emb_model_2:\n",
    "        emb_table.append(np.concatenate(([0]*word_emb_model_1_with_url.vector_size, word_emb_model_2[word]),0))\n",
    "    else:\n",
    "        emb_table.append([0]*emb_dim)\n",
    "emb_table = np.array(emb_table)\n",
    "\n",
    "# Padding & Encoding\n",
    "seq_length = 100\n",
    "def encode_and_add_padding(sentences, seq_length, word_index):\n",
    "    sent_encoded = []\n",
    "    for sent in sentences:\n",
    "        temp_encoded = [word_index[word] if word in word_index else word_index['[UNKNOWN]'] for word in sent]\n",
    "        if len(temp_encoded) < seq_length:\n",
    "            temp_encoded += [word_index['[PAD]']] * (seq_length - len(temp_encoded))\n",
    "        sent_encoded.append(temp_encoded[:100])\n",
    "    return sent_encoded\n",
    "\n",
    "train_pad_encoded = encode_and_add_padding(training_posts_no_url_no_sw_processed, seq_length, word_index )\n",
    "test_pad_encoded = encode_and_add_padding(testing_posts_no_url_no_sw_processed, seq_length, word_index )'''"
   ]
  },
  {
   "cell_type": "code",
   "execution_count": null,
   "metadata": {
    "id": "sQgJVB-qjvA-"
   },
   "outputs": [],
   "source": [
    "'''unique_labels = np.unique(training_labels)\n",
    "lEnc = LabelEncoder()\n",
    "training_labels_encoded = lEnc.fit_transform(training_labels)\n",
    "testing_labels_encoded = lEnc.transform(testing_labels)\n",
    "n_class = len(unique_labels)\n",
    "print(unique_labels)\n",
    "print(lEnc.transform(unique_labels))'''"
   ]
  },
  {
   "cell_type": "code",
   "execution_count": null,
   "metadata": {
    "id": "ReC6ALcsg0bO"
   },
   "outputs": [],
   "source": [
    "'''print(type(train_pad_encoded))\n",
    "import torch\n",
    "input_torch = torch.from_numpy(np.array(train_pad_encoded)).to(device)\n",
    "target_torch = torch.from_numpy(np.array(training_labels_encoded)).view(-1).to(device)\n",
    "\n",
    "\n",
    "for epoch in range(total_epoch):      \n",
    "    model.train()\n",
    "    optimizer.zero_grad()\n",
    "    outputs = model(input_torch) \n",
    "    loss = criterion(outputs, target_torch)\n",
    "    loss.backward()\n",
    "    optimizer.step()\n",
    "    if epoch%10 == 9:\n",
    "        predicted = torch.argmax(outputs, -1)\n",
    "        acc= accuracy_score(predicted.cpu().numpy(),target_torch.cpu().numpy())\n",
    "\n",
    "        print('Epoch: %d, loss: %.5f, train_acc: %.2f' %(epoch + 1, loss.item(), acc))\n",
    "\n",
    "print('Finished Training')\n",
    "torch.save(model, '/content/drive/MyDrive/Colab Notebooks/5046 assignment 1/bi_LSTM_without_url_without_sw_removal.pt')'''"
   ]
  },
  {
   "cell_type": "code",
   "execution_count": null,
   "metadata": {
    "id": "QeF53WdlkXT7"
   },
   "outputs": [],
   "source": [
    "'''import torch\n",
    "device = torch.device(\"cuda\" if torch.cuda.is_available() else \"cpu\")\n",
    "# Load model bi-LSTM with url\n",
    "model_without_url_wo_sw_removal = torch.load(\n",
    "    '/content/drive/MyDrive/Colab Notebooks/5046 assignment 1/bi_LSTM_without_url_without_sw_removal.pt')\n",
    "input_torch = torch.from_numpy(np.array(test_pad_encoded)).to(device)\n",
    "outputs = model_without_url_wo_sw_removal(input_torch) \n",
    "predicted = torch.argmax(outputs, -1)\n",
    "\n",
    "from sklearn.metrics import classification_report\n",
    "print(classification_report(testing_labels_encoded,predicted.cpu().numpy()))'''\n"
   ]
  },
  {
   "cell_type": "code",
   "execution_count": null,
   "metadata": {
    "id": "rEo1BNlyGWTI"
   },
   "outputs": [],
   "source": [
    "'''import re\n",
    "import nltk\n",
    "nltk.download('punkt')\n",
    "from nltk.tokenize import word_tokenize\n",
    "nltk.download('stopwords')\n",
    "from nltk.corpus import stopwords as sw\n",
    "stop_words = sw.words('english')\n",
    "from nltk.stem.porter import *\n",
    "stemmer = PorterStemmer()\n",
    "from nltk.stem import WordNetLemmatizer\n",
    "nltk.download('wordnet')\n",
    "lemmatizer = WordNetLemmatizer()\n",
    "\n",
    "import numpy as np\n",
    "from sklearn.preprocessing import LabelEncoder\n",
    "\n",
    "def remove_number(x):\n",
    "    x =  re.sub(r'[0-9]+', '', x)\n",
    "    return x\n",
    "def remove_punctuation_re(x):\n",
    "    x = re.sub(r'[^\\w\\s]', '', x)\n",
    "    return x\n",
    "def pre_process_3(input_list):\n",
    "    # Converting to lower case\n",
    "    lower = [s.lower() for s in input_list]\n",
    "    # Removing number \n",
    "    remove_num = [remove_number(s) for s in lower]\n",
    "    # Removing punctuation\n",
    "    remove_pun = [remove_punctuation_re(s) for s in remove_num]\n",
    "    # Tokenization \n",
    "    Tokenized = [word_tokenize(s) for s in remove_pun]\n",
    "    # Removing stop words\n",
    "    #for tokens in Tokenized:\n",
    "    #    filtered_sentence = [w for w in tokens if not w in stop_words]\n",
    "    #    remove_sw.append(filtered_sentence)\n",
    "    # Stemming\n",
    "    result = []\n",
    "    for tokens in Tokenized:\n",
    "        stemmed = [stemmer.stem(s) for s in tokens]\n",
    "        result.append(stemmed)\n",
    "    # Lemmatization\n",
    "    #result = []\n",
    "    #for tokens in result_1:\n",
    "    #    lemma_sentence = [lemmatizer.lemmatize(w) for w in tokens ]\n",
    "    #    result.append(lemma_sentence)\n",
    "    return result\n",
    "\n",
    "training_posts_no_url_no_sw_processed = pre_process_3(training_posts_no_url)\n",
    "testing_posts_no_url_no_sw_processed = pre_process_3(testing_posts_no_url)'''"
   ]
  },
  {
   "cell_type": "code",
   "execution_count": null,
   "metadata": {
    "id": "O6uT8GqFH9Og"
   },
   "outputs": [],
   "source": [
    "'''emb_list = []\n",
    "for i in training_posts_no_url_no_sw_processed:\n",
    "    emb_list.append(i)\n",
    "for j in testing_posts_no_url_no_sw_processed:\n",
    "    emb_list.append(j)\n",
    "print(len(emb_list))\n",
    "from gensim.models import FastText\n",
    "word_emb_model_1_with_url = FastText(emb_list, size=200, window=5, min_count=0, workers=-1, sg=1)\n",
    "\n",
    "word_set = set() \n",
    "for sent in emb_list:\n",
    "    for word in sent:\n",
    "        word_set.add(word)\n",
    "\n",
    "word_set.add('[PAD]')\n",
    "word_set.add('[UNKNOWN]')\n",
    "\n",
    "word_list = list(word_set) \n",
    "word_list = list(word_set) \n",
    "word_list.sort()\n",
    "\n",
    "word_index = {}\n",
    "ind = 0\n",
    "for word in word_list:\n",
    "    word_index[word] = ind\n",
    "    ind += 1\n",
    "\n",
    "import numpy as np\n",
    "emb_dim = word_emb_model_1_with_url.vector_size + word_emb_model_2.vector_size\n",
    "emb_table = []\n",
    "for i, word in enumerate(word_list):\n",
    "    if word in word_emb_model_1_with_url and word in word_emb_model_2:\n",
    "        emb_table.append(np.concatenate((word_emb_model_1_with_url[word], word_emb_model_2[word]),0))\n",
    "    elif word in word_emb_model_1_with_url and word not in word_emb_model_2:\n",
    "        emb_table.append(np.concatenate((word_emb_model_1_with_url[word], [0]*word_emb_model_2.vector_size),0))\n",
    "    elif word in word_emb_model_1_with_url and word not in word_emb_model_2:\n",
    "        emb_table.append(np.concatenate(([0]*word_emb_model_1_with_url.vector_size, word_emb_model_2[word]),0))\n",
    "    else:\n",
    "        emb_table.append([0]*emb_dim)\n",
    "emb_table = np.array(emb_table)\n",
    "\n",
    "# Padding & Encoding\n",
    "seq_length = 100\n",
    "def encode_and_add_padding(sentences, seq_length, word_index):\n",
    "    sent_encoded = []\n",
    "    for sent in sentences:\n",
    "        temp_encoded = [word_index[word] if word in word_index else word_index['[UNKNOWN]'] for word in sent]\n",
    "        if len(temp_encoded) < seq_length:\n",
    "            temp_encoded += [word_index['[PAD]']] * (seq_length - len(temp_encoded))\n",
    "        sent_encoded.append(temp_encoded[:100])\n",
    "    return sent_encoded\n",
    "\n",
    "train_pad_encoded = encode_and_add_padding(training_posts_no_url_no_sw_processed, seq_length, word_index )\n",
    "test_pad_encoded = encode_and_add_padding(testing_posts_no_url_no_sw_processed, seq_length, word_index )'''"
   ]
  },
  {
   "cell_type": "code",
   "execution_count": null,
   "metadata": {
    "id": "QHZC5x0rISto"
   },
   "outputs": [],
   "source": [
    "'''unique_labels = np.unique(training_labels)\n",
    "lEnc = LabelEncoder()\n",
    "training_labels_encoded = lEnc.fit_transform(training_labels)\n",
    "testing_labels_encoded = lEnc.transform(testing_labels)\n",
    "n_class = len(unique_labels)\n",
    "print(unique_labels)\n",
    "print(lEnc.transform(unique_labels))'''"
   ]
  },
  {
   "cell_type": "code",
   "execution_count": null,
   "metadata": {
    "id": "pm-xMbPrIdWX"
   },
   "outputs": [],
   "source": [
    "'''print(type(train_pad_encoded))\n",
    "import torch\n",
    "input_torch = torch.from_numpy(np.array(train_pad_encoded)).to(device)\n",
    "target_torch = torch.from_numpy(np.array(training_labels_encoded)).view(-1).to(device)\n",
    "\n",
    "\n",
    "for epoch in range(total_epoch):      \n",
    "    model.train()\n",
    "    optimizer.zero_grad()\n",
    "    outputs = model(input_torch) \n",
    "    loss = criterion(outputs, target_torch)\n",
    "    loss.backward()\n",
    "    optimizer.step()\n",
    "    if epoch%10 == 9:\n",
    "        predicted = torch.argmax(outputs, -1)\n",
    "        acc= accuracy_score(predicted.cpu().numpy(),target_torch.cpu().numpy())\n",
    "\n",
    "        print('Epoch: %d, loss: %.5f, train_acc: %.2f' %(epoch + 1, loss.item(), acc))\n",
    "\n",
    "print('Finished Training')\n",
    "torch.save(model, '/content/drive/MyDrive/Colab Notebooks/5046 assignment 1/bi_LSTM_without_url_without_sw_removal_without_lemma.pt')'''"
   ]
  },
  {
   "cell_type": "code",
   "execution_count": null,
   "metadata": {
    "id": "8aFmME9OIpP1"
   },
   "outputs": [],
   "source": [
    "'''import torch\n",
    "device = torch.device(\"cuda\" if torch.cuda.is_available() else \"cpu\")\n",
    "# Load model bi-LSTM with url\n",
    "model_without_url_wo_sw_removal = torch.load(\n",
    "    '/content/drive/MyDrive/Colab Notebooks/5046 assignment 1/bi_LSTM_without_url_without_sw_removal_without_lemma.pt')\n",
    "input_torch = torch.from_numpy(np.array(test_pad_encoded)).to(device)\n",
    "outputs = model_without_url_wo_sw_removal(input_torch) \n",
    "predicted = torch.argmax(outputs, -1)\n",
    "\n",
    "from sklearn.metrics import classification_report\n",
    "print(classification_report(testing_labels_encoded,predicted.cpu().numpy()))'''\n"
   ]
  },
  {
   "cell_type": "code",
   "execution_count": null,
   "metadata": {
    "colab": {
     "base_uri": "https://localhost:8080/"
    },
    "id": "7e4pvhwlBgE-",
    "outputId": "6026d329-1351-41e6-ce0c-487352b22134"
   },
   "outputs": [
    {
     "name": "stdout",
     "output_type": "stream",
     "text": [
      "Performance Evaluation with different Data Pre-processing Techniques (w/wo URL)\n",
      "+---------------------+-----------------------------+\n",
      "| Model               |   Weighted Average F1-Score |\n",
      "+=====================+=============================+\n",
      "| Bi-LSTM with URL    |                        0.55 |\n",
      "+---------------------+-----------------------------+\n",
      "| Bi-LSTM without URL |                        0.57 |\n",
      "+---------------------+-----------------------------+\n",
      "Please note that for evaluating performance with/withour URL, all other pre-process techniques were kept identical\n",
      "\n",
      "================================================================================\n",
      "\n",
      "Performance Evaluation with different Data Pre-processing Techniques (w/wo Lemmatization)\n",
      "+-------------------------------+-----------------------------+\n",
      "| Model                         |   Weighted Average F1-Score |\n",
      "+===============================+=============================+\n",
      "| Bi-LSTM with Lemmatization    |                        0.54 |\n",
      "+-------------------------------+-----------------------------+\n",
      "| Bi-LSTM without Lemmatization |                        0.55 |\n",
      "+-------------------------------+-----------------------------+\n"
     ]
    }
   ],
   "source": [
    "from tabulate import tabulate\n",
    "print(\"Performance Evaluation with different Data Pre-processing Techniques (w/wo URL)\")\n",
    "mydata = [\n",
    "          [\"Bi-LSTM with URL\", 0.55\n",
    "           ],\n",
    "          [\"Bi-LSTM without URL\", 0.57\n",
    "           ]  \n",
    "]\n",
    "head = [\"Model\", \"Weighted Average F1-Score\"]\n",
    "# display table\n",
    "print(tabulate(mydata, headers=head, tablefmt=\"grid\"))\n",
    "print(\"Please note that for evaluating performance with/withour URL, all other pre-process techniques were kept identical\")\n",
    "print(\"\")\n",
    "print(\"==\" * 40)\n",
    "print(\"\")\n",
    "print(\"Performance Evaluation with different Data Pre-processing Techniques (w/wo Lemmatization)\")\n",
    "mydata_2 = [\n",
    "          [\"Bi-LSTM with Lemmatization\", 0.54\n",
    "           ],\n",
    "          [\"Bi-LSTM without Lemmatization\", 0.55\n",
    "           ]  \n",
    "]\n",
    "head = [\"Model\", \"Weighted Average F1-Score\"]\n",
    "# display table\n",
    "print(tabulate(mydata_2, headers=head, tablefmt=\"grid\"))"
   ]
  },
  {
   "cell_type": "markdown",
   "metadata": {
    "id": "NKwV4wt6kN7Z"
   },
   "source": [
    "As shown in the above table, with other pre-processing techniques remaining unchanged, removing URLs from the input data would improve the model performance. While keeping all pre-processing techniques unchanged, using lemmatization to pre-process the data would surprisingly lower the model performance. <br>\n",
    "URLs are links to a webpage, and the URLs are usually long, yet they mostly do not contain any helpful information. Moreover, most URLs contain random combinations of numbers and letters, which have no physical meanings. Therefore, removing URLs would not lose much valuable information and will likely improve the model performance since some useless noises (random combinations of letters and numbers in URLs) are removed at the same time .<br>\n",
    "Lemmatization was a method that converts a given word back to its original state. For example, after lemmatization, the word \"is\" or the word \"are\" would be output as \"be\" which was their original state. However, the above table shows that the model trained with not lemmatized input data had slightly better performance. The reason for that might be the poorly designed pre-processing stage. A lemmatization stage follows the stemming stage. Stemming and lemmatization are two very similar pre-processing techniques. This means that there is no significant difference between the data going through only the stemming stage and the data going through both stemming and lemmatization. And that would lead to the trained model having similar performance  "
   ]
  },
  {
   "cell_type": "markdown",
   "metadata": {
    "id": "-gwVpllNoOiY"
   },
   "source": [
    "## 4.3. Performance Evaluation with Different Input\n",
    "\n",
    "\n",
    "You are required to evaluate with the testing dataset and provide the table with f1 of test set.\n",
    "Note that it will not be marked if you do not display it in the ipynb file.\n"
   ]
  },
  {
   "cell_type": "markdown",
   "metadata": {
    "id": "mWS3oonaoOiY"
   },
   "source": [
    "(*Please show your empirical evidence and justification*)"
   ]
  },
  {
   "cell_type": "code",
   "execution_count": null,
   "metadata": {
    "id": "mREYoAaq9TP3"
   },
   "outputs": [],
   "source": [
    "print(len(training_posts_no_url_processed))\n",
    "print(len(testing_posts_no_url_processed))\n",
    "emb_list = []\n",
    "for i in training_posts_no_url_processed:\n",
    "    emb_list.append(i)\n",
    "for j in testing_posts_no_url_processed:\n",
    "    emb_list.append(j)\n",
    "print(len(emb_list))\n",
    "word_set = set() \n",
    "for sent in emb_list:\n",
    "    for word in sent:\n",
    "        word_set.add(word)\n",
    "word_set.add('[PAD]')\n",
    "word_set.add('[UNKNOWN]')\n",
    "word_list = list(word_set) \n",
    "word_list.sort()\n",
    "word_index = {}\n",
    "ind = 0\n",
    "for word in word_list:\n",
    "    word_index[word] = ind\n",
    "    ind += 1"
   ]
  },
  {
   "cell_type": "code",
   "execution_count": null,
   "metadata": {
    "id": "2xUKinqC9uyI"
   },
   "outputs": [],
   "source": [
    "import numpy as np\n",
    "# 1 embedding model\n",
    "def concat_1_model(word_emb_model_1):\n",
    "    emb_dim = word_emb_model_1.vector_size\n",
    "    emb_table = []\n",
    "    for i, word in enumerate(word_list):\n",
    "        if word in word_emb_model_1:\n",
    "            emb_table.append(word_emb_model_1[word])\n",
    "        else:\n",
    "            emb_table.append([0]*emb_dim)\n",
    "    emb_table = np.array(emb_table)\n",
    "    return emb_table, emb_dim\n",
    "# 2 embedding models\n",
    "def concat(word_emb_model_1, word_emb_model_2):\n",
    "    emb_dim = word_emb_model_1.vector_size + word_emb_model_2.vector_size\n",
    "    emb_table = []\n",
    "    for i, word in enumerate(word_list):\n",
    "        if word in word_emb_model_1 and word in word_emb_model_2:\n",
    "            emb_table.append(np.concatenate((word_emb_model_1[word], word_emb_model_2[word]),0))\n",
    "        elif word in word_emb_model_1 and word not in word_emb_model_2:\n",
    "            emb_table.append(np.concatenate((word_emb_model_1[word], [0]*word_emb_model_2.vector_size),0))\n",
    "        elif word in word_emb_model_1 and word not in word_emb_model_2:\n",
    "            emb_table.append(np.concatenate(([0]*word_emb_model_1.vector_size, word_emb_model_2[word]),0))\n",
    "        else:\n",
    "            emb_table.append([0]*emb_dim)\n",
    "    emb_table = np.array(emb_table)\n",
    "    return emb_table, emb_dim\n",
    "\n",
    "# Padding & Encoding\n",
    "seq_length = 100\n",
    "def encode_and_add_padding(sentences, seq_length, word_index):\n",
    "    sent_encoded = []\n",
    "    for sent in sentences:\n",
    "        temp_encoded = [word_index[word] if word in word_index else word_index['[UNKNOWN]'] for word in sent]\n",
    "        if len(temp_encoded) < seq_length:\n",
    "            temp_encoded += [word_index['[PAD]']] * (seq_length - len(temp_encoded))\n",
    "        sent_encoded.append(temp_encoded[:100])\n",
    "    return sent_encoded"
   ]
  },
  {
   "cell_type": "code",
   "execution_count": null,
   "metadata": {
    "id": "FTqc1XdioOiZ"
   },
   "outputs": [],
   "source": [
    "# Trining model W2V Skip Gram\n",
    "from gensim.models import Word2Vec\n",
    "word_emb_model_ft_sg = Word2Vec(emb_list, size=200, window=5, min_count=0, workers=-1, sg=1)\n",
    "# Training model W2V CBOW\n",
    "word_emb_model_ft_cbow = Word2Vec(emb_list, size=200, window=5, min_count=0, workers=-1, sg=0)\n",
    "# Pretraind 1 \"glove-wiki-gigaword-100\"\n",
    "import gensim.downloader as api\n",
    "word_emb_model_pre_1 = api.load(\"glove-wiki-gigaword-100\")\n",
    "# Pretrained 2 \"glove-twitter-100\"\n",
    "word_emb_model_pre_2 = api.load(\"glove-twitter-100\")"
   ]
  },
  {
   "cell_type": "code",
   "execution_count": null,
   "metadata": {
    "id": "cogCMopc8k9Q"
   },
   "outputs": [],
   "source": [
    "train_pad_encoded_no_url = encode_and_add_padding(training_posts_no_url_processed, seq_length, word_index )\n",
    "test_pad_encoded_no_url = encode_and_add_padding(testing_posts_no_url_processed, seq_length, word_index )"
   ]
  },
  {
   "cell_type": "code",
   "execution_count": null,
   "metadata": {
    "id": "t_K71n57ApJX"
   },
   "outputs": [],
   "source": [
    "# W2V SG\n",
    "emb_table, emb_dim = concat_1_model(word_emb_model_ft_sg)\n",
    "\n",
    "vocab_size = len(word_list)\n",
    "total_epoch = 100\n",
    "learning_rate = 0.01\n",
    "import torch\n",
    "device = torch.device(\"cuda\" if torch.cuda.is_available() else \"cpu\")\n",
    "import numpy as np\n",
    "import torch.nn as nn\n",
    "import torch.nn.functional as F\n",
    "import torch.optim as optim\n",
    "from sklearn.metrics import accuracy_score\n",
    "class Model(nn.Module):\n",
    "    def __init__(self):\n",
    "        super(Model, self).__init__()\n",
    "        self.emb = nn.Embedding(vocab_size, emb_dim)\n",
    "        self.emb.weight.data.copy_(torch.from_numpy(emb_table))\n",
    "        self.emb.weight.requires_grad = False\n",
    "        n_hidden = 50\n",
    "        self.lstm = nn.LSTM(emb_dim, n_hidden, batch_first =True, bidirectional=True)\n",
    "        self.linear = nn.Linear(n_hidden*2, n_class)\n",
    "    def forward(self, x):\n",
    "        x = self.emb(x)\n",
    "        lstm_out, (h_n, c_n) = self.lstm(x)\n",
    "        hidden_out = torch.cat((h_n[0,:,:],h_n[1,:,:]),1)\n",
    "        z = self.linear(hidden_out)\n",
    "        return z\n",
    "model = Model().to(device)\n",
    "criterion = nn.CrossEntropyLoss()\n",
    "optimizer = optim.Adam(model.parameters(), lr=learning_rate)\n",
    "input_torch = torch.from_numpy(np.array(train_pad_encoded_no_url)).to(device)\n",
    "target_torch = torch.from_numpy(np.array(training_labels_encoded)).view(-1).to(device)\n",
    "for epoch in range(total_epoch):      \n",
    "    model.train()\n",
    "    optimizer.zero_grad()\n",
    "    outputs = model(input_torch) \n",
    "    loss = criterion(outputs, target_torch)\n",
    "    loss.backward()\n",
    "    optimizer.step()\n",
    "    if epoch%10 == 9:\n",
    "        predicted = torch.argmax(outputs, -1)\n",
    "        acc= accuracy_score(predicted.cpu().numpy(),target_torch.cpu().numpy())\n",
    "        print('Epoch: %d, loss: %.5f, train_acc: %.2f' %(epoch + 1, loss.item(), acc))\n",
    "print('Finished Training')\n",
    "torch.save(model, \n",
    "           '/content/bi_LSTM_w2v_sg.pt')"
   ]
  },
  {
   "cell_type": "code",
   "execution_count": null,
   "metadata": {
    "id": "UymiId1flViA"
   },
   "outputs": [],
   "source": [
    "import torch\n",
    "device = torch.device(\"cuda\" if torch.cuda.is_available() else \"cpu\")\n",
    "# Load model bi-LSTM without url\n",
    "model_without_url= torch.load(\n",
    "    '/content/bi_LSTM_w2v_sg.pt'\n",
    "    )\n",
    "input_torch = torch.from_numpy(np.array(test_pad_encoded_no_url)).to(device)\n",
    "outputs = model_without_url(input_torch) \n",
    "predicted = torch.argmax(outputs, -1)\n",
    "from sklearn.metrics import classification_report\n",
    "print(\"W2V SG\")\n",
    "print(classification_report(testing_labels_encoded,predicted.cpu().numpy()))"
   ]
  },
  {
   "cell_type": "code",
   "execution_count": null,
   "metadata": {
    "id": "vyUKLbtxC7d0"
   },
   "outputs": [],
   "source": [
    "'''# W2V CBOW\n",
    "emb_table, emb_dim = concat_1_model(word_emb_model_ft_cbow)\n",
    "\n",
    "vocab_size = len(word_list)\n",
    "total_epoch = 100\n",
    "learning_rate = 0.01\n",
    "import torch\n",
    "device = torch.device(\"cuda\" if torch.cuda.is_available() else \"cpu\")\n",
    "import numpy as np\n",
    "import torch.nn as nn\n",
    "import torch.nn.functional as F\n",
    "import torch.optim as optim\n",
    "from sklearn.metrics import accuracy_score\n",
    "class Model(nn.Module):\n",
    "    def __init__(self):\n",
    "        super(Model, self).__init__()\n",
    "        self.emb = nn.Embedding(vocab_size, emb_dim)\n",
    "        self.emb.weight.data.copy_(torch.from_numpy(emb_table))\n",
    "        self.emb.weight.requires_grad = False\n",
    "        n_hidden = 50\n",
    "        self.lstm = nn.LSTM(emb_dim, n_hidden, batch_first =True, bidirectional=True)\n",
    "        self.linear = nn.Linear(n_hidden*2, n_class)\n",
    "    def forward(self, x):\n",
    "        x = self.emb(x)\n",
    "        lstm_out, (h_n, c_n) = self.lstm(x)\n",
    "        hidden_out = torch.cat((h_n[0,:,:],h_n[1,:,:]),1)\n",
    "        z = self.linear(hidden_out)\n",
    "        return z\n",
    "model = Model().to(device)\n",
    "criterion = nn.CrossEntropyLoss()\n",
    "optimizer = optim.Adam(model.parameters(), lr=learning_rate)\n",
    "input_torch = torch.from_numpy(np.array(train_pad_encoded_no_url)).to(device)\n",
    "target_torch = torch.from_numpy(np.array(training_labels_encoded)).view(-1).to(device)\n",
    "for epoch in range(total_epoch):      \n",
    "    model.train()\n",
    "    optimizer.zero_grad()\n",
    "    outputs = model(input_torch) \n",
    "    loss = criterion(outputs, target_torch)\n",
    "    loss.backward()\n",
    "    optimizer.step()\n",
    "    if epoch%10 == 9:\n",
    "        predicted = torch.argmax(outputs, -1)\n",
    "        acc= accuracy_score(predicted.cpu().numpy(),target_torch.cpu().numpy())\n",
    "        print('Epoch: %d, loss: %.5f, train_acc: %.2f' %(epoch + 1, loss.item(), acc))\n",
    "print('Finished Training')\n",
    "torch.save(model, \n",
    "           '/content/drive/MyDrive/Colab Notebooks/5046 assignment 1/bi_LSTM_w2v_cbow.pt')'''"
   ]
  },
  {
   "cell_type": "code",
   "execution_count": null,
   "metadata": {
    "id": "JNsPWgwnDt-H"
   },
   "outputs": [],
   "source": [
    "'''# Pretraind 1 \"glove-wiki-gigaword-100\"\n",
    "emb_table, emb_dim = concat_1_model(word_emb_model_pre_1)\n",
    "\n",
    "vocab_size = len(word_list)\n",
    "total_epoch = 100\n",
    "learning_rate = 0.01\n",
    "import torch\n",
    "device = torch.device(\"cuda\" if torch.cuda.is_available() else \"cpu\")\n",
    "import numpy as np\n",
    "import torch.nn as nn\n",
    "import torch.nn.functional as F\n",
    "import torch.optim as optim\n",
    "from sklearn.metrics import accuracy_score\n",
    "class Model(nn.Module):\n",
    "    def __init__(self):\n",
    "        super(Model, self).__init__()\n",
    "        self.emb = nn.Embedding(vocab_size, emb_dim)\n",
    "        self.emb.weight.data.copy_(torch.from_numpy(emb_table))\n",
    "        self.emb.weight.requires_grad = False\n",
    "        n_hidden = 50\n",
    "        self.lstm = nn.LSTM(emb_dim, n_hidden, batch_first =True, bidirectional=True)\n",
    "        self.linear = nn.Linear(n_hidden*2, n_class)\n",
    "    def forward(self, x):\n",
    "        x = self.emb(x)\n",
    "        lstm_out, (h_n, c_n) = self.lstm(x)\n",
    "        hidden_out = torch.cat((h_n[0,:,:],h_n[1,:,:]),1)\n",
    "        z = self.linear(hidden_out)\n",
    "        return z\n",
    "model = Model().to(device)\n",
    "criterion = nn.CrossEntropyLoss()\n",
    "optimizer = optim.Adam(model.parameters(), lr=learning_rate)\n",
    "input_torch = torch.from_numpy(np.array(train_pad_encoded_no_url)).to(device)\n",
    "target_torch = torch.from_numpy(np.array(training_labels_encoded)).view(-1).to(device)\n",
    "for epoch in range(total_epoch):      \n",
    "    model.train()\n",
    "    optimizer.zero_grad()\n",
    "    outputs = model(input_torch) \n",
    "    loss = criterion(outputs, target_torch)\n",
    "    loss.backward()\n",
    "    optimizer.step()\n",
    "    if epoch%10 == 9:\n",
    "        predicted = torch.argmax(outputs, -1)\n",
    "        acc= accuracy_score(predicted.cpu().numpy(),target_torch.cpu().numpy())\n",
    "        print('Epoch: %d, loss: %.5f, train_acc: %.2f' %(epoch + 1, loss.item(), acc))\n",
    "print('Finished Training')\n",
    "torch.save(model, \n",
    "           '/content/drive/MyDrive/Colab Notebooks/5046 assignment 1/bi_LSTM_wiki.pt')'''"
   ]
  },
  {
   "cell_type": "code",
   "execution_count": null,
   "metadata": {
    "id": "Z9q6pRlfEHGy"
   },
   "outputs": [],
   "source": [
    "'''# Pretrained 2 \"glove-twitter-100\"\n",
    "emb_table, emb_dim = concat_1_model(word_emb_model_pre_2)\n",
    "\n",
    "vocab_size = len(word_list)\n",
    "total_epoch = 100\n",
    "learning_rate = 0.01\n",
    "import torch\n",
    "device = torch.device(\"cuda\" if torch.cuda.is_available() else \"cpu\")\n",
    "import numpy as np\n",
    "import torch.nn as nn\n",
    "import torch.nn.functional as F\n",
    "import torch.optim as optim\n",
    "from sklearn.metrics import accuracy_score\n",
    "class Model(nn.Module):\n",
    "    def __init__(self):\n",
    "        super(Model, self).__init__()\n",
    "        self.emb = nn.Embedding(vocab_size, emb_dim)\n",
    "        self.emb.weight.data.copy_(torch.from_numpy(emb_table))\n",
    "        self.emb.weight.requires_grad = False\n",
    "        n_hidden = 50\n",
    "        self.lstm = nn.LSTM(emb_dim, n_hidden, batch_first =True, bidirectional=True)\n",
    "        self.linear = nn.Linear(n_hidden*2, n_class)\n",
    "    def forward(self, x):\n",
    "        x = self.emb(x)\n",
    "        lstm_out, (h_n, c_n) = self.lstm(x)\n",
    "        hidden_out = torch.cat((h_n[0,:,:],h_n[1,:,:]),1)\n",
    "        z = self.linear(hidden_out)\n",
    "        return z\n",
    "model = Model().to(device)\n",
    "criterion = nn.CrossEntropyLoss()\n",
    "optimizer = optim.Adam(model.parameters(), lr=learning_rate)\n",
    "input_torch = torch.from_numpy(np.array(train_pad_encoded_no_url)).to(device)\n",
    "target_torch = torch.from_numpy(np.array(training_labels_encoded)).view(-1).to(device)\n",
    "for epoch in range(total_epoch):      \n",
    "    model.train()\n",
    "    optimizer.zero_grad()\n",
    "    outputs = model(input_torch) \n",
    "    loss = criterion(outputs, target_torch)\n",
    "    loss.backward()\n",
    "    optimizer.step()\n",
    "    if epoch%10 == 9:\n",
    "        predicted = torch.argmax(outputs, -1)\n",
    "        acc= accuracy_score(predicted.cpu().numpy(),target_torch.cpu().numpy())\n",
    "        print('Epoch: %d, loss: %.5f, train_acc: %.2f' %(epoch + 1, loss.item(), acc))\n",
    "print('Finished Training')\n",
    "torch.save(model, \n",
    "           '/content/drive/MyDrive/Colab Notebooks/5046 assignment 1/bi_LSTM_twitter.pt')'''"
   ]
  },
  {
   "cell_type": "code",
   "execution_count": null,
   "metadata": {
    "id": "klChDpdjLRVC"
   },
   "outputs": [],
   "source": [
    "'''# W2V SG + wiki\n",
    "emb_table, emb_dim = concat(word_emb_model_ft_sg, word_emb_model_pre_1)\n",
    "\n",
    "vocab_size = len(word_list)\n",
    "total_epoch = 100\n",
    "learning_rate = 0.01\n",
    "import torch\n",
    "device = torch.device(\"cuda\" if torch.cuda.is_available() else \"cpu\")\n",
    "import numpy as np\n",
    "import torch.nn as nn\n",
    "import torch.nn.functional as F\n",
    "import torch.optim as optim\n",
    "from sklearn.metrics import accuracy_score\n",
    "class Model(nn.Module):\n",
    "    def __init__(self):\n",
    "        super(Model, self).__init__()\n",
    "        self.emb = nn.Embedding(vocab_size, emb_dim)\n",
    "        self.emb.weight.data.copy_(torch.from_numpy(emb_table))\n",
    "        self.emb.weight.requires_grad = False\n",
    "        n_hidden = 50\n",
    "        self.lstm = nn.LSTM(emb_dim, n_hidden, batch_first =True, bidirectional=True)\n",
    "        self.linear = nn.Linear(n_hidden*2, n_class)\n",
    "    def forward(self, x):\n",
    "        x = self.emb(x)\n",
    "        lstm_out, (h_n, c_n) = self.lstm(x)\n",
    "        hidden_out = torch.cat((h_n[0,:,:],h_n[1,:,:]),1)\n",
    "        z = self.linear(hidden_out)\n",
    "        return z\n",
    "model = Model().to(device)\n",
    "criterion = nn.CrossEntropyLoss()\n",
    "optimizer = optim.Adam(model.parameters(), lr=learning_rate)\n",
    "input_torch = torch.from_numpy(np.array(train_pad_encoded_no_url)).to(device)\n",
    "target_torch = torch.from_numpy(np.array(training_labels_encoded)).view(-1).to(device)\n",
    "for epoch in range(total_epoch):      \n",
    "    model.train()\n",
    "    optimizer.zero_grad()\n",
    "    outputs = model(input_torch) \n",
    "    loss = criterion(outputs, target_torch)\n",
    "    loss.backward()\n",
    "    optimizer.step()\n",
    "    if epoch%10 == 9:\n",
    "        predicted = torch.argmax(outputs, -1)\n",
    "        acc= accuracy_score(predicted.cpu().numpy(),target_torch.cpu().numpy())\n",
    "        print('Epoch: %d, loss: %.5f, train_acc: %.2f' %(epoch + 1, loss.item(), acc))\n",
    "print('Finished Training')\n",
    "torch.save(model, \n",
    "           '/content/drive/MyDrive/Colab Notebooks/5046 assignment 1/bi_LSTM_sg+wiki.pt')'''"
   ]
  },
  {
   "cell_type": "code",
   "execution_count": null,
   "metadata": {
    "id": "NikfZnLoLxWN"
   },
   "outputs": [],
   "source": [
    "'''# W2V SG + twi\n",
    "emb_table, emb_dim = concat(word_emb_model_ft_sg, word_emb_model_pre_2)\n",
    "\n",
    "vocab_size = len(word_list)\n",
    "total_epoch = 100\n",
    "learning_rate = 0.01\n",
    "import torch\n",
    "device = torch.device(\"cuda\" if torch.cuda.is_available() else \"cpu\")\n",
    "import numpy as np\n",
    "import torch.nn as nn\n",
    "import torch.nn.functional as F\n",
    "import torch.optim as optim\n",
    "from sklearn.metrics import accuracy_score\n",
    "class Model(nn.Module):\n",
    "    def __init__(self):\n",
    "        super(Model, self).__init__()\n",
    "        self.emb = nn.Embedding(vocab_size, emb_dim)\n",
    "        self.emb.weight.data.copy_(torch.from_numpy(emb_table))\n",
    "        self.emb.weight.requires_grad = False\n",
    "        n_hidden = 50\n",
    "        self.lstm = nn.LSTM(emb_dim, n_hidden, batch_first =True, bidirectional=True)\n",
    "        self.linear = nn.Linear(n_hidden*2, n_class)\n",
    "    def forward(self, x):\n",
    "        x = self.emb(x)\n",
    "        lstm_out, (h_n, c_n) = self.lstm(x)\n",
    "        hidden_out = torch.cat((h_n[0,:,:],h_n[1,:,:]),1)\n",
    "        z = self.linear(hidden_out)\n",
    "        return z\n",
    "model = Model().to(device)\n",
    "criterion = nn.CrossEntropyLoss()\n",
    "optimizer = optim.Adam(model.parameters(), lr=learning_rate)\n",
    "input_torch = torch.from_numpy(np.array(train_pad_encoded_no_url)).to(device)\n",
    "target_torch = torch.from_numpy(np.array(training_labels_encoded)).view(-1).to(device)\n",
    "for epoch in range(total_epoch):      \n",
    "    model.train()\n",
    "    optimizer.zero_grad()\n",
    "    outputs = model(input_torch) \n",
    "    loss = criterion(outputs, target_torch)\n",
    "    loss.backward()\n",
    "    optimizer.step()\n",
    "    if epoch%10 == 9:\n",
    "        predicted = torch.argmax(outputs, -1)\n",
    "        acc= accuracy_score(predicted.cpu().numpy(),target_torch.cpu().numpy())\n",
    "        print('Epoch: %d, loss: %.5f, train_acc: %.2f' %(epoch + 1, loss.item(), acc))\n",
    "print('Finished Training')\n",
    "torch.save(model, \n",
    "           '/content/drive/MyDrive/Colab Notebooks/5046 assignment 1/bi_LSTM_sg+twi.pt')'''"
   ]
  },
  {
   "cell_type": "code",
   "execution_count": null,
   "metadata": {
    "id": "JGWIXPpDBCtA"
   },
   "outputs": [],
   "source": [
    "'''# W2V SG\n",
    "import torch\n",
    "device = torch.device(\"cuda\" if torch.cuda.is_available() else \"cpu\")\n",
    "# Load model bi-LSTM without url\n",
    "model_without_url= torch.load(\n",
    "    \"/content/drive/MyDrive/Colab Notebooks/5046 assignment 1/bi_LSTM_w2v_sg.pt\"\n",
    "    )\n",
    "input_torch = torch.from_numpy(np.array(test_pad_encoded_no_url)).to(device)\n",
    "outputs = model_without_url(input_torch) \n",
    "predicted = torch.argmax(outputs, -1)\n",
    "from sklearn.metrics import classification_report\n",
    "print(\"W2V SG\")\n",
    "print(classification_report(testing_labels_encoded,predicted.cpu().numpy()))\n",
    "# W2V CBOW\n",
    "import torch\n",
    "device = torch.device(\"cuda\" if torch.cuda.is_available() else \"cpu\")\n",
    "# Load model bi-LSTM without url\n",
    "model_without_url= torch.load(\n",
    "    \"/content/drive/MyDrive/Colab Notebooks/5046 assignment 1/bi_LSTM_w2v_cbow.pt\"\n",
    "    )\n",
    "input_torch = torch.from_numpy(np.array(test_pad_encoded_no_url)).to(device)\n",
    "outputs = model_without_url(input_torch) \n",
    "predicted = torch.argmax(outputs, -1)\n",
    "from sklearn.metrics import classification_report\n",
    "print(\"W2V CBOW\")\n",
    "print(classification_report(testing_labels_encoded,predicted.cpu().numpy()))\n",
    "# Pretrain wiki\n",
    "import torch\n",
    "device = torch.device(\"cuda\" if torch.cuda.is_available() else \"cpu\")\n",
    "# Load model bi-LSTM without url\n",
    "model_without_url= torch.load(\n",
    "    \"/content/drive/MyDrive/Colab Notebooks/5046 assignment 1/bi_LSTM_w2v_cbow.pt\"\n",
    "    )\n",
    "input_torch = torch.from_numpy(np.array(test_pad_encoded_no_url)).to(device)\n",
    "outputs = model_without_url(input_torch) \n",
    "predicted = torch.argmax(outputs, -1)\n",
    "from sklearn.metrics import classification_report\n",
    "print(\"Pretrain WIKI\")\n",
    "print(classification_report(testing_labels_encoded,predicted.cpu().numpy()))\n",
    "# Pretrain twitter\n",
    "import torch\n",
    "device = torch.device(\"cuda\" if torch.cuda.is_available() else \"cpu\")\n",
    "# Load model bi-LSTM without url\n",
    "model_without_url= torch.load(\n",
    "    \"/content/drive/MyDrive/Colab Notebooks/5046 assignment 1/bi_LSTM_twitter.pt\"\n",
    "    )\n",
    "input_torch = torch.from_numpy(np.array(test_pad_encoded_no_url)).to(device)\n",
    "outputs = model_without_url(input_torch) \n",
    "predicted = torch.argmax(outputs, -1)\n",
    "from sklearn.metrics import classification_report\n",
    "print(\"Pretrain TWI\")\n",
    "print(classification_report(testing_labels_encoded,predicted.cpu().numpy()))\n",
    "# W2V SG + wiki\n",
    "import torch\n",
    "device = torch.device(\"cuda\" if torch.cuda.is_available() else \"cpu\")\n",
    "# Load model bi-LSTM without url\n",
    "model_without_url= torch.load(\n",
    "    \"/content/drive/MyDrive/Colab Notebooks/5046 assignment 1/bi_LSTM_sg+wiki.pt\"\n",
    "    )\n",
    "input_torch = torch.from_numpy(np.array(test_pad_encoded_no_url)).to(device)\n",
    "outputs = model_without_url(input_torch) \n",
    "predicted = torch.argmax(outputs, -1)\n",
    "from sklearn.metrics import classification_report\n",
    "print(\"W2V SG + WIKI\")\n",
    "print(classification_report(testing_labels_encoded,predicted.cpu().numpy()))\n",
    "# W2V SG + twi\n",
    "import torch\n",
    "device = torch.device(\"cuda\" if torch.cuda.is_available() else \"cpu\")\n",
    "# Load model bi-LSTM without url\n",
    "model_without_url= torch.load(\n",
    "    \"/content/drive/MyDrive/Colab Notebooks/5046 assignment 1/bi_LSTM_sg+twi.pt\"\n",
    "    )\n",
    "input_torch = torch.from_numpy(np.array(test_pad_encoded_no_url)).to(device)\n",
    "outputs = model_without_url(input_torch) \n",
    "predicted = torch.argmax(outputs, -1)\n",
    "from sklearn.metrics import classification_report\n",
    "print(\"W2V SG + TWI\")\n",
    "print(classification_report(testing_labels_encoded,predicted.cpu().numpy()))'''"
   ]
  },
  {
   "cell_type": "code",
   "execution_count": null,
   "metadata": {
    "colab": {
     "base_uri": "https://localhost:8080/"
    },
    "id": "E6OUEFksOT1-",
    "outputId": "c7790e9a-7db5-4141-bb99-ae90eb582830"
   },
   "outputs": [
    {
     "name": "stdout",
     "output_type": "stream",
     "text": [
      "Performance Evaluation with different input\n",
      "+----------------------------------------------+-----------------------------+\n",
      "| Model                                        |   Weighted Average F1-Score |\n",
      "+==============================================+=============================+\n",
      "| Word2Vec Skip-Gram                           |                        0.43 |\n",
      "+----------------------------------------------+-----------------------------+\n",
      "| Word2Vec CBOW                                |                        0.5  |\n",
      "+----------------------------------------------+-----------------------------+\n",
      "| Pretrianed glove-wiki-gigaword-100           |                        0.5  |\n",
      "+----------------------------------------------+-----------------------------+\n",
      "| Pretrianed glove-twitter-100                 |                        0.61 |\n",
      "+----------------------------------------------+-----------------------------+\n",
      "| Word2Vec Skip-Gram + glove-wiki-gigaword-100 |                        0.57 |\n",
      "+----------------------------------------------+-----------------------------+\n",
      "| Word2Vec Skip-Gram + glove-twitter-100       |                        0.59 |\n",
      "+----------------------------------------------+-----------------------------+\n"
     ]
    }
   ],
   "source": [
    "from tabulate import tabulate\n",
    "print(\"Performance Evaluation with different input\")\n",
    "mydata = [\n",
    "          [\"Word2Vec Skip-Gram\", 0.43\n",
    "           ],\n",
    "          [\"Word2Vec CBOW\", 0.50\n",
    "           ],\n",
    "          [\"Pretrianed glove-wiki-gigaword-100\", 0.50\n",
    "           ],\n",
    "          [\"Pretrianed glove-twitter-100\", 0.61\n",
    "           ],\n",
    "          [\"Word2Vec Skip-Gram + glove-wiki-gigaword-100\", 0.57\n",
    "           ],\n",
    "          [\"Word2Vec Skip-Gram + glove-twitter-100\", 0.59\n",
    "           ],\n",
    "]\n",
    "head = [\"Model\", \"Weighted Average F1-Score\"]\n",
    "# display table\n",
    "print(tabulate(mydata, headers=head, tablefmt=\"grid\"))"
   ]
  },
  {
   "cell_type": "markdown",
   "metadata": {
    "id": "z88DNrsOt8_w"
   },
   "source": [
    "The above table shows that the best-performing model was trained with only glove-twitter word embeddings. The lowest was trained using the w2v skip-gram embedding model. <br>\n",
    "By comparing the input with skip-gram and the CBOW word embeddings, the model trained with only CBOW had better performance. According to Mikolov and his team, CBOW could better represent frequently appearing words (Mikolov et al., 2013). Therefore, one explanation for this might be that in the training set, many words had frequently appeared throughout the data set, causing the CBOW model to out-perform the SG model. <br>\n",
    "By comparing the concatenation input and the single-embedding input, it was apparent that using concatenation input would be better than using a MBTI-trained w2v input. The reason for this would be the size of the data set. Most likely, the pre-trained models were trained on large size corpus, leading the word embedding models to be more accurate. On the other hand, by comparing the concatenation input and the single pre-trained input, the single pre-trained input out-performed the concatenation word embedding input. This might be because the low accuracy of MBTI-trained embedding essentially worsened the performance. \n",
    "<br>\n",
    "The Twitter-pre-trained model had the best performance might be that the text in the MBTI data set was more oral oriented, meaning that the text was less formal, which was closer to text on Twitter than text on Wiki. Therefore, the model trained with the Twitter-pre-trained model achieved the best performance. "
   ]
  },
  {
   "cell_type": "markdown",
   "metadata": {
    "id": "vg08uf3hpyoF"
   },
   "source": [
    "## 4.4. Performance Evaluation with Different Sequence Models\n",
    "\n",
    "\n",
    "You are required to evaluate with the testing dataset and provide the table with f1 of test set.\n",
    "Note that it will not be marked if you do not display it in the ipynb file.\n"
   ]
  },
  {
   "cell_type": "markdown",
   "metadata": {
    "id": "1e_nVbdrpyoK"
   },
   "source": [
    "(*Please show your empirical evidence and justification*)"
   ]
  },
  {
   "cell_type": "code",
   "execution_count": null,
   "metadata": {
    "id": "KT6EfkKRHJ9X"
   },
   "outputs": [],
   "source": [
    "embedded_docs_train = []\n",
    "maxlength = 100\n",
    "for doc in training_posts_no_url_processed:\n",
    "    embedded_doc = []\n",
    "    for i in range(maxlength):\n",
    "        if i == len(doc):\n",
    "            for j in range(maxlength-i):\n",
    "                embedded_doc.append([0]*100)\n",
    "            break\n",
    "        else:\n",
    "            try:\n",
    "                embedded_doc.append(word_emb_model_2.wv[doc[i]])\n",
    "            except:\n",
    "                embedded_doc.append([0]*100)\n",
    "    embedded_docs_train.append(embedded_doc)\n",
    "\n",
    "embedded_docs_test = []\n",
    "maxlength = 100\n",
    "for doc in testing_posts_no_url_processed:\n",
    "    embedded_doc = []\n",
    "    for i in range(maxlength):\n",
    "        if i == len(doc):\n",
    "            for j in range(maxlength-i):\n",
    "                embedded_doc.append([0]*100)\n",
    "            break\n",
    "        else:\n",
    "            try:\n",
    "                embedded_doc.append(word_emb_model_2.wv[doc[i]])\n",
    "            except:\n",
    "                embedded_doc.append([0]*100)\n",
    "    embedded_docs_test.append(embedded_doc)'''"
   ]
  },
  {
   "cell_type": "code",
   "execution_count": null,
   "metadata": {
    "id": "rKAr72_fIDsQ"
   },
   "outputs": [],
   "source": [
    "embedded_docs_train = np.array(embedded_docs_train)\n",
    "print(embedded_docs_train.shape)\n",
    "embedded_docs_test = np.array(embedded_docs_test)\n",
    "print(embedded_docs_test.shape)"
   ]
  },
  {
   "cell_type": "code",
   "execution_count": null,
   "metadata": {
    "id": "PLw_NP3OI8C1"
   },
   "outputs": [],
   "source": [
    "import torch.nn as nn\n",
    "import torch.nn.functional as F\n",
    "\n",
    "class Bi_RNN_Model(nn.Module):\n",
    "    def __init__(self):\n",
    "        super(Bi_RNN_Model, self).__init__()\n",
    "        # set the bidirectional to True\n",
    "        self.rnn = nn.RNN(n_input, n_hidden, batch_first =True, bidirectional=True)\n",
    "        self.linear = nn.Linear(2*n_hidden,n_class)\n",
    "\n",
    "    def forward(self, x):        \n",
    "        x, h_n = self.rnn(x)\n",
    "        # concat the last hidden state from two direction\n",
    "        hidden_out = torch.cat((h_n[0,:,:],h_n[1,:,:]),1)\n",
    "        output = self.linear(hidden_out)\n",
    "        return output\n"
   ]
  },
  {
   "cell_type": "code",
   "execution_count": null,
   "metadata": {
    "id": "oSUWojM4JCrw"
   },
   "outputs": [],
   "source": [
    "import numpy as np\n",
    "import torch.optim as optim\n",
    "\n",
    "#training_labels_encoded = lEnc.fit_transform(training_labels)\n",
    "#testing_labels_encoded = lEnc.transform(testing_labels)\n",
    "\n",
    "seq_length = embedded_docs_train.shape[1]\n",
    "n_input = embedded_docs_train.shape[2]\n",
    "n_class = np.unique(training_labels_encoded).shape[0]\n",
    "\n",
    "# Set the hyperparameters \n",
    "n_hidden = 50\n",
    "batch_size = 256\n",
    "total_epoch = 100\n",
    "learning_rate = 0.03"
   ]
  },
  {
   "cell_type": "code",
   "execution_count": null,
   "metadata": {
    "id": "-HVIY_47J-l5"
   },
   "outputs": [],
   "source": [
    "from sklearn.metrics import accuracy_score\n",
    "# Initialize model, set up the loss calculator and optimizer\n",
    "model = Bi_RNN_Model().to(device)\n",
    "criterion = nn.CrossEntropyLoss()\n",
    "optimizer = optim.Adam(model.parameters(), lr=learning_rate)\n",
    "\n",
    "# Training the model\n",
    "for epoch in range(total_epoch):\n",
    "    train_loss = 0\n",
    "    for ind in range(0,embedded_docs_train.shape[0],batch_size):\n",
    "        input_batch = embedded_docs_train[ind:min(ind+batch_size, embedded_docs_train.shape[0])]\n",
    "        target_batch = training_labels_encoded[ind:min(ind+batch_size, embedded_docs_train.shape[0])]\n",
    "        input_batch_torch = torch.from_numpy(input_batch).float().to(device)\n",
    "        target_batch_torch = torch.from_numpy(target_batch).view(-1).to(device)\n",
    "\n",
    "        model.train()\n",
    "        optimizer.zero_grad()\n",
    "        outputs = model(input_batch_torch) \n",
    "        loss = criterion(outputs, target_batch_torch)\n",
    "        loss.backward()\n",
    "        optimizer.step()\n",
    "    if epoch%10 == 9:\n",
    "        train_loss += loss.item()\n",
    "        predicted = torch.argmax(outputs, -1)\n",
    "        acc= accuracy_score(predicted.cpu().numpy(),target_batch_torch.cpu().numpy())\n",
    "        print('Epoch: %d, loss: %.5f, train_acc: %.2f' %(epoch + 1, loss.item(), acc))\n",
    "print('Finished Training')\n",
    "torch.save(model, \n",
    "           '/content/bi_RNN.pt')"
   ]
  },
  {
   "cell_type": "code",
   "execution_count": null,
   "metadata": {
    "id": "M9UZMtmzkXnK"
   },
   "outputs": [],
   "source": [
    "import torch\n",
    "device = torch.device(\"cuda\" if torch.cuda.is_available() else \"cpu\")\n",
    "# Load model bi-LSTM without url\n",
    "model_without_url= torch.load(\n",
    "     '/content/bi_LSTM.pt'\n",
    "    )\n",
    "input_torch = torch.from_numpy(np.array(test_pad_encoded_no_url)).to(device)\n",
    "outputs = model_without_url(input_torch) \n",
    "predicted = torch.argmax(outputs, -1)\n",
    "from sklearn.metrics import classification_report\n",
    "print(\"bi-LSTM\")\n",
    "print(classification_report(testing_labels_encoded,predicted.cpu().numpy()))"
   ]
  },
  {
   "cell_type": "code",
   "execution_count": null,
   "metadata": {
    "id": "7D9s0JSkj4mO"
   },
   "outputs": [],
   "source": [
    "import torch\n",
    "device = torch.device(\"cuda\" if torch.cuda.is_available() else \"cpu\")\n",
    "# Load model bi-LSTM without url\n",
    "model_without_url= torch.load(\n",
    "     '/content/bi_RNN.pt'\n",
    "    )\n",
    "model_without_url.eval()\n",
    "outputs = model_without_url(torch.from_numpy(embedded_docs_test).float().to(device)) \n",
    "predicted = torch.argmax(outputs, 1)\n",
    "from sklearn.metrics import classification_report\n",
    "print(\"bi-RNN\")\n",
    "print(classification_report(testing_labels_encoded, predicted.cpu().numpy(),digits=4))"
   ]
  },
  {
   "cell_type": "code",
   "execution_count": null,
   "metadata": {
    "colab": {
     "base_uri": "https://localhost:8080/"
    },
    "id": "BrqyG--9QFI5",
    "outputId": "559710a1-68d7-4c1f-fc54-e8f9db02a9d2"
   },
   "outputs": [
    {
     "name": "stdout",
     "output_type": "stream",
     "text": [
      "Performance Evaluation with different sequence models\n",
      "+---------+-----------------------------+\n",
      "| Model   |   Weighted Average F1-Score |\n",
      "+=========+=============================+\n",
      "| bi-LSTM |                        0.62 |\n",
      "+---------+-----------------------------+\n",
      "| bi- RNN |                        0.49 |\n",
      "+---------+-----------------------------+\n"
     ]
    }
   ],
   "source": [
    "from tabulate import tabulate\n",
    "print(\"Performance Evaluation with different sequence models\")\n",
    "mydata = [\n",
    "          [\"bi-LSTM\", 0.62\n",
    "           ],\n",
    "          [\"bi- RNN\", 0.49\n",
    "           ]\n",
    "]\n",
    "head = [\"Model\", \"Weighted Average F1-Score\"]\n",
    "# display table\n",
    "print(tabulate(mydata, headers=head, tablefmt=\"grid\"))"
   ]
  },
  {
   "cell_type": "markdown",
   "metadata": {
    "id": "R_yzm1lfJMNA"
   },
   "source": [
    "By comparing the model between LSTM and RNN, it was evident that the LSTM model had a significantly better performance than the RNN model.<br>\n",
    "In terms of RNN, one of its drawbacks is that RNN is not capable of handling long-term dependencies, such that it can only consider hidden states from its previous cell. To solve this problem, LSTM was invented. LSTM is a variant of RNN, for which LSTM is designed to store information over extended time intervals with backpropagation (Hochreiter & Schmidhuber, 1997). With that being said, LSTM can store information\n",
    " much longer than comparing to RNN. Therefore, in this section, when training with relatively long sentences, LSTM was able to take many words into account. In contrast, RNN can only take its previous word into account, leading to the LSTM model outperforming the RNN model."
   ]
  },
  {
   "cell_type": "markdown",
   "metadata": {
    "id": "P28Z1k36MZuo"
   },
   "source": [
    "## 4.5. HyperParameter Testing\n",
    "*You are required to draw a graph(y-axis: f1, x-axis: epoch) for test set and explain the optimal number of epochs based on the learning rate you have already chosen.* Note that it will not be marked if you do not display it in the ipynb file.\n"
   ]
  },
  {
   "cell_type": "markdown",
   "metadata": {
    "id": "BYzrA_s2tTaz"
   },
   "source": [
    "(*Please show your empirical evidence and justification*)\n",
    "\n"
   ]
  },
  {
   "cell_type": "code",
   "execution_count": null,
   "metadata": {
    "id": "wTLyQEeZMZ2f"
   },
   "outputs": [],
   "source": [
    "import torch\n",
    "device = torch.device(\"cuda\" if torch.cuda.is_available() else \"cpu\")\n",
    "import numpy as np\n",
    "import torch.nn as nn\n",
    "import torch.nn.functional as F\n",
    "import torch.optim as optim\n",
    "from sklearn.metrics import accuracy_score\n",
    "\n",
    "\n",
    "learning = [0.1, 0.01, 0.001]\n",
    "result = []\n",
    "for i in learning:\n",
    "    epoch = [1, 5,  10, 50, 100, 200, 500]\n",
    "    epoch_f1 = []\n",
    "    for j in epoch:\n",
    "        print(\"Training with epoch {} and learning rate {}\".format(j, i))\n",
    "        vocab_size = len(word_list)\n",
    "        total_epoch = j\n",
    "        learning_rate = i\n",
    "\n",
    "        model = Model().to(device)\n",
    "        criterion = nn.CrossEntropyLoss()\n",
    "        optimizer = optim.Adam(model.parameters(), lr=learning_rate)\n",
    "\n",
    "        input_torch = torch.from_numpy(np.array(train_pad_encoded_no_url)).to(device)\n",
    "        target_torch = torch.from_numpy(np.array(training_labels_encoded)).view(-1).to(device)\n",
    "\n",
    "        for epoch in range(total_epoch):\n",
    "            model.train()\n",
    "            optimizer.zero_grad()\n",
    "            outputs = model(input_torch) \n",
    "            loss = criterion(outputs, target_torch)\n",
    "            loss.backward()\n",
    "            optimizer.step()\n",
    "\n",
    "        print('Finished Training')\n",
    "        input_torch = torch.from_numpy(np.array(test_pad_encoded_no_url)).to(device)\n",
    "        outputs = model(input_torch) \n",
    "        predicted = torch.argmax(outputs, -1)\n",
    "        from sklearn.metrics import f1_score\n",
    "        f1 = f1_score(testing_labels_encoded,predicted.cpu().numpy(), average='weighted')\n",
    "        print(f1)\n",
    "        epoch_f1.append(f1)\n",
    "    result.append(epoch_f1)"
   ]
  },
  {
   "cell_type": "code",
   "execution_count": null,
   "metadata": {
    "colab": {
     "base_uri": "https://localhost:8080/",
     "height": 873
    },
    "id": "8hDQ4NzRX86N",
    "outputId": "6b4809b8-cc99-4f72-87ab-d38130a345ce"
   },
   "outputs": [
    {
     "data": {
      "image/png": "[encoded data removed]",
      "text/plain": [
       "<Figure size 432x288 with 1 Axes>"
      ]
     },
     "metadata": {},
     "output_type": "display_data"
    },
    {
     "data": {
      "image/png": "[encoded data removed]",
      "text/plain": [
       "<Figure size 432x288 with 1 Axes>"
      ]
     },
     "metadata": {},
     "output_type": "display_data"
    },
    {
     "data": {
      "image/png": "[encoded data removed]",
      "text/plain": [
       "<Figure size 432x288 with 1 Axes>"
      ]
     },
     "metadata": {},
     "output_type": "display_data"
    }
   ],
   "source": [
    "import matplotlib.pyplot as plt\n",
    "import numpy as np\n",
    "xpoints = np.array([1, 5,  10, 50, 100, 200, 500])\n",
    "plt.plot(xpoints, result[0], color = 'green', label = \"Overall\", marker = \"o\")\n",
    "plt.title(\"Weighted f1-score vs Epoch with learning rate of {}\".format(learning[0]))\n",
    "plt.xlabel('Epoch') \n",
    "plt.ylabel('Wighted f1-score') \n",
    "plt.show()\n",
    "\n",
    "xpoints = np.array([1, 5,  10, 50, 100, 200, 500])\n",
    "plt.plot(xpoints, result[1], color = 'green', label = \"Overall\", marker = \"o\")\n",
    "plt.title(\"Weighted f1-score vs Epoch with learning rate of {}\".format(learning[1]))\n",
    "plt.xlabel('Epoch') \n",
    "plt.ylabel('Wighted f1-score') \n",
    "plt.show()\n",
    "\n",
    "xpoints = np.array([1, 5,  10, 50, 100, 200, 500])\n",
    "plt.plot(xpoints, result[2], color = 'green', label = \"Overall\", marker = \"o\")\n",
    "plt.title(\"Weighted f1-score vs Epoch with learning rate of {}\".format(learning[2]))\n",
    "plt.xlabel('Epoch') \n",
    "plt.ylabel('Wighted f1-score') \n",
    "plt.show()'''"
   ]
  },
  {
   "cell_type": "markdown",
   "metadata": {
    "id": "9-OCggPHaewI"
   },
   "source": [
    "As shown in the plots above, it was obvious that the model would be in its peak performance when using 100 epochs to train the model. The final learning rate adopted for sections 1 through 3 was 0.001.<br>\n",
    "The reason for choosing 100 epochs was that 100 was the optimal number that the trained model was not overfitting and had the best performance. With more epochs, the model might overfit, which would lead to worse performance and might take longer to train. <br>\n",
    "The reason for choosing 0.001 as the learning rate was that when learning rates were 0.1 and 0.01, the performance did improve faster with a larger amount of epochs (steeper slope). However, when using a small number of epochs, the models v overshot the minimal. "
   ]
  },
  {
   "cell_type": "markdown",
   "metadata": {
    "id": "dIfa2nm85H9I"
   },
   "source": [
    "#5 - Test your model via Colab Form Fields User Interface"
   ]
  },
  {
   "cell_type": "markdown",
   "metadata": {
    "id": "qrCqpwHD5RG1"
   },
   "source": [
    "You are required to design a user interface so that user can input a textual sentence via the colab form fields user interface to get the personality type classification result from your trained model. *You can just modify based on the following Colab Form Fields template*"
   ]
  },
  {
   "cell_type": "code",
   "execution_count": 1,
   "metadata": {
    "colab": {
     "base_uri": "https://localhost:8080/"
    },
    "id": "HO_aV5bz5-ry",
    "outputId": "eb635c41-9f48-4f15-bdde-b3ba49a39a85"
   },
   "outputs": [
    {
     "name": "stdout",
     "output_type": "stream",
     "text": [
      "[\"'Actually, from these results, it looks like you're triple-withdrawn: 5w4, 9w8, 4w5.  It would appear that you just happen to have strong 2, 6, and 7 traits.|||It's odd that you're associating the whole heart triad with narcissism.  Also, I would associate Fives with having some antisocial disorder, not Eights (BTW let's set aside the aspergers and call it...|||So is my mom.  It sometimes annoys me to pieces:  My mom: Go do *insert known, to-do task here* Me: I know My mom: Well, if you know, then why don't you go do it?  ...yeah, I'm not one...|||I'm gonna guess the EJ types are most likely to groupthink, but I'm not entirely sure.  Thoughts?  Also, which types are least likely to groupthink?|||Very true.  My guess is that 9s are the most idealized type (thanks to our high levels of neutrality and inner tranquility), but from the perspective of a 9, it isn't worth it to idealize any type. ...|||I hardly ever wear hats, if at all.  Nice new avatar BTW, dealwithit.|||The ENTJ I'm currently living with apparently has used his Se via cooking, amid other things I'm not 100% sure of.  He's quite nice with Se, compared to Te-Ni alone.  Sometimes I kinda wonder how...|||You have been criticized of having less thanks than posts /guilty|||*A Type 9 looks at the poll...*  We're so popular :proud:  *Goes and votes for 9*  EDIT... and 9th vote!  What a number :crazy:|||It seems both of the ISPs seem to hold out relationships and get married longer than the ESPs.  Also, some stats from Personality Page:  Highest Percentage Married   (From highest to...|||*Looks back at thread*  Riiiiiiiiiight, so why did I create this thread? :dry:  (maybe too much like comparing an ISTP to an INTP?)|||Maybe an INTP in a Ti-Si loop?  I tend to be nit-picky about my environment as well due to my high Si.|||So am I, and although my 5w6 is close, I'm a 9w1 (I have absolutely no 8 anywhere in my Enneagram type at all).|||Not to mention it feels somewhat disturbing and unreal to do it all the time.|||PSTypes Enneagram Test Results  The Distribution of Your Scores    Type One:  15  Type Two:|||I'm probably the one all the way to the right.   Am I now weird for looking well? :crazy:|||Maybe because Enneagram isn't as official and popular as MBTI, and so it's hard to find broad real-world stats.|||TP and FP aren't necessarily associated with a Pe function.  They're associated with dom/aux Ti and Fi respectively.  Anyway, you could divide up the 16 types in a number of ways of four: EJ, EP,...|||Not an SJ, but my mom, who is an SJ, her parents are most likely ESFJ and ISTP.|||Why?  The discussion's fine — nothing's heated up in here.|||I used to wear a watch when I was younger, but watches tend to irritate my wrist, so I stopped.  Besides, there are other ways for me to tell time when it's necessary.  Also, beware: under...|||1. Words of Affirmation  Meh.  2. Gifts  Giving them: yep.  Receiving them is another story.  3. Acts of Service|||1: Not entirely sure.  They're mostly about places than anything else.  Seldom, if at all, are there people in my dreams. 2: Often, like most other things, I remember a dream quite vividly, but the...|||They'll probably get along quite well.  This is probably true for any XwY with a YwX.  BTW if you were wondering, the little w between the numbers stands for wing, not with (it can be unclear...|||I've wondered how common each of the 9 fundamental Enneagram types are.  Does anyone know or have a link?|||From typelogic.com:  Intuition is tertiary--as the ESFJ matures, and as situations arise which call for suspension of criticism, Ne is allowed to play.  Under the leadership of the Fe function,...|||From typelogic.com:  As the ESTJ matures, and as situations arise which call for suspension of criticism, Extraverted iNtuition is allowed to play.  Under the leadership of the Te function,...|||Again, sorry if I am harsh.  Try not to take everything here personally.  If you look inside the parentheses, there's my alternate possibility (I'm not inconsiderate!).  It turns out I was just...|||I tend to apologize like that too: very reasoned out.  Maybe it's a T/F thing.|||This obligation of SJs (not just ESTJs), amid others, is what drives me up a wall sometimes.  My ESFJ mother has this tendency to do this to me (although not to the degree you're encountering).  ...|||I find this interesting.  I never would've guessed that an ESTJ would tell a white lie (this in part due to my stereotypical views of ESTJs).  As a thinking type, I might get thrown off by this, and...|||Not to be harsh, but speaking of lies, you could be lying about your strong STJ.  It looks like you're just strong J (either that or I could be misreading the scale).  So, another question: what...|||Here's a third ISTP to add to that.  I will say, though, that because of my autism, I have an unusually strong Si.  It could happen to an ISFP, and the result could be an autistic ISFP with ISFJ...|||Here, I replied to your thread, happy? :crazy:  Anyway, I once read that IFPs such as you don't seem to have much patience with types whose preferences are strongly T or J (let alone TJ).|||Mostly Se and Ni.  I rule with Ti, so I don't need work there.  Te and Fi are doing OK, and they will develop better in my later life.  Ne I just suck at, and Fe I'm not too good with either.  Both...|||P. S.  Why do you terms and conditions have to be so long?????  Do you have any idea how discouraging and redundant that is?  Ever heard of plain English and not legalese?|||I need to get out more /recurringthoughtofmine|||Sounds like you need to relax!  It also sounds like you need to forgive your INTP's detached, perceiving nature.  Maybe he got quickly bored!|||Thanks to everyone here who shared their two-sided Se understanding.  I remember my high school ENFJ teacher taking us outside during homeroom.  Se relief :proud:|||First impression: ESTJ (maybe with a strong Se?)  Certainly underdeveloped in terms of cognitive functions, such as Ne and Fi.|||It looks like you have just won out the rest of us... either that or you weren't being true to yourself.|||ISTJ: Cup of coffee ESTJ: Judge's mallet (for lack of a proper name, if there is one) ISTP: Someone fixing up their cool vehicle (be it a car, motorcycle, bicycle, or otherwise) ISFP: An artist...|||The question is, will it be because we humans could control ourselves, or because mother nature forced us?|||I would guess this is an Si thing...    Given my strong Si, I have become like this as well.  However, being an SP, I don't need routine, just need to know how it works.|||I find it fascinating that some ISFJs have higher Te than Ti.  It had me wondering if most other SJs have higher Te and Fe than their Ti and Fi.  When my ESFJ mother tested out, she had higher Te...|||How nostalgic are you?  It would appear that Si nostalgia is fairly strong among you ESFJs, being Si-aux.|||I wondered where this thread went...  *has a thought of music and therefore cannot be described*|||From an ISTP with aux. Se, this is an insightful thread.  I've sometimes wondered if ENFJs (or ENxJs for that matter) experience Se in a here-and-now manner like SPs do.|||I can imagine, like any identity relationship, that it'll be a nice one, but eventually will get boring.  I sometimes wonder what an ISFP-ISTP relationship would look like.|||Let's see...  Playing games (especially ones that integrate the Ti element, which few adventurous games seem to do), skiing, biking, hiking, climbing, procrastinating here (not uncommon among us...'\", \"' does, indeed, help. To answer the question, my IQ is 129, and it was professionally administered. But, it doesn't mean anything to me--I don't need a number to tell me I'm intelligent, I...|||Shall I play you a song on the world's smallest violin?|||I really don't get how you guys think she's an introvert. She's said many times about how extroverted she is, and she was voted Most Talkative by her high school. I can see an introvert being...|||Assuming morality is absolute, can you explain to me the absolute best moral choice out of every situation? I'm assuming you cannot, and on who's authority should we accept these truths? It cannot be...|||Hello all,  I originally joined this site in late 2009, and I lurked for many months before. I had just turned 19 and started college , in search of myself, and I used this forum to help discover...|||1. Log in after a week or so of not being on here. 2. Look at INFJ forum, sees that all the new threads are already ones that I've seen and discussed in the past. 3. Check the new posts in case I...|||I hope everyone realizes the difference between a nice guy and a, well, nice guy.|||www.youtube.com/watch?v=DOX9l4Ys7NY|||I would retire my account since I don't ever come on here anymore (and I don't really care about MBTI anymore), but why put an unnecessary restriction on myself?|||I'm not a virgin. In some ways, I still wish I was--I lost my virginity to someone who I wasn't in love with. The girl I'm with right now is, and if it weren't for that one girl, I would be too and...|||I'm 21. I'm young, amirite?|||Having the feeling of being alone.  Being able to tell a lot about a person just by their energy. It's almost like I've known them for years. And then, if they find this out, it freaks them out....||| think it might be more of a biological thing and how you were raised more than how it is based on your type, but I can see how type could play a part.  As for me....yeah, I'm nowhere near an...|||I suppose I still am, but I've lowered my standards so much to where I date people I don't even like, probably just to not feel alone. I'm a little disgusted with myself at the moment.||| know what you mean. I've had this same problem for the longest time, and I too can seem to spark relationships better over text. Weird. But, anyways, I've just forced myself to be a little more...|||I can imagine most INFJs can relate to this.    trust test results. That being said, I could very well be an INFJ type 3.|||My views have always been that I will never have sex with someone that I know is just gonna lead to sex and that's it. Up to this point, I've followed through to that, because I can't imagine giving...|||For me, like most of you, it comes out very early on, but I try to control my tongue for as long as I can, so I hardly ever say it at all, at least intentionally. At the beginning, I think, it's less...|||Right now I'm debating whether I'm an ENTP or INFJ.  Sounds very strange, but both of them fit me.|||Who doesn't get a little genocidal every now and then?|||Walter may actually be an INFJ, not an INTJ. The reason I say this is that it's VERY clear to me that Gus is an INTJ, but there seems to be some variance between them. I'll be able to explain more...|||Bout damn time!|||I'm a dude, so it's kind of embarrassing that I like this show, but it ain't too bad. The only two I know are Lorelai and Rory, and they're ESFP and INFJ/ISFJ, respectively.|||   would say you're an ESFP or ENFP, probably leaning stronger with ESFP over ENFP.  You're not introverted. At all.|||Are you seriously basing your dating life based on some Personality Theory that may or may not be bullshit?|||I seriously hope this is a joke thread. It's getting that bad that I can't tell if someone is trolling, or just flat out fucking stupid.  As for who's going to win--unless Romeny wins the...|||Congratulations??|||I never made one in the first place, so.....hey?  I'm not sure why I'm even making this, as I'm probably just gonna retire this account soon anyway, but, ya know, just thought I'd make one.|||You're typism.  Honestly, I don't really have a specific type that annoys me. Stupid annoys me, not type.  That being said, for the love of FSM and all that is holy, I am NEVER, EVER, EVER...||| this isn't the first time you've posted something like this in the two years I've been here, it's in all likelihood depression, dude. I had the same symptoms for, oh, 7 years or so, and when I...|||I'm my own partner.|||EDIT I guess that's what I get for not reading the whole post.|||Can I come tuck you in?|||You're probably a 3, then.  I'm a type three myself, and I fall into the more reserved category with most people. I would still consider myself extroverted, but people who talk nonstop actually get...||| common. I'm a 3, but a 3w4, not a 3w2.|||Not at all ENTP. I'd say ISTP, or ESTP if that doesn't work.||| the words right out of my mouth.|||Just so everyone's clear, getting a percentage on a MBTI doesn't mean you're 75% introvert. It means you can be pretty confident you're an introvert.  Back on topic, I'm pretty much certain that...|||Yeah, same thing happened to me. Fuckers.  Dear stupid people--just because I don't show it doesn't mean I'm not judging you. At least you keep me entertained.  Excuse my misogyny, but fuck...|||Tell me about it. But, ironically, I'm dating a girl from California who moved over here a while ago, and I met her through Ok Cupid. Didn't actually expect that thing to produce results, but it has!...|||I'd say Obama is most definitely an ENFJ. Speaking to common values, but sticking to his own internal vision, etc.  Sarah Palin--ESFJ  Ronald Reagan--Hard to tell. Probably ESTP in my opnion. ...'\", \"'As an ENFJ, how ambitious are you? I am fairly ambitious. I have two undergrad degrees; Sociology/Religious Studies & in Education in ESL/Secondary Education. I left about a 3 year gap between both...|||Welcome!  I find that writing my thoughts in free-flow about the situation helps me cope with separating my feelings with the other person. I also remind myself that I will not allow another...|||healthy ways - workout regularly, yoga, talk to my boyfriend/friends. Maintain a regular sleep schedule.  unhealthy - chocolate. more chocolate. Sometimes other unhealthy foods :/|||It is going excellent! Are relationship is building an amazing foundation. We love to express our feelings for each other through poetry (my preference), through drawings & art (his preference). We...|||Hey INFPs - barely post anymore. I just wanted to share that I met my INFP boyfriend on Feb. 4th of this year. We met through a dating app. We have never been more in love - we've both described our...|||It's been six dates and I found myself an INFP [he took the test ... and yes, he is an INFP]. The connection is just so amazing and intense right now, it even scares me.  He told me he has never...|||I am curious what you'd like. Yeah, we ENFJs are unique. Wonder if this has to do with enneagram/love styles.|||I don't have a ton of info. as I have not met this guy in person & only chatted with him yesterday for the first time online. Here's what I do know:  -according to his profile he is looking for...|||Here are some signs:  -they tend to talk faster  -they will have a tougher time filling in gaps in the conversation -sometimes they won't initiate the interaction, get a bit more shy or wait till...|||Dislike my INFP best-friend's sister. We only just met this month. I don't know I felt strangely upset about why I don't like her sister and guilty. The girl is so self-absorbed & does things that...|||Yeah. I hear you there. You just never know that you will fall in love with someone. It does come out of nowhere.|||Well put. I am borrowing this one in the future.|||Here are some ideas: -anything handwritten or created by hand (so original) this can range from poetry, a cleverly created time line of your relationship with photos (in form of a YouTube clip too)...|||I totally relate to what you said there.|||Yes, I am with you. I find it very hard to fall in love. Some people have been known to mistake my friendly, extrovert behaviour as some kind of romantic interest. Must be going out of style to take...|||Thanks for the reply. I agree with what you've said. I would actually like to dump and bail-out on her at this point.|||That is what she said. However, her friend reporting me to HR would not have any affect on me. I don't work there. I am simply an individual who applied for a grant (which is govt money). This money...|||thank you. sane advice.|||Hey, I am working with INFP on a community project. Without going into too many details, a number of people have dropped the ball on her including the Illustrator who was working with her [an INTP]....|||    So good. James is also a Youth Worker/Musician... the non-lyrical version of the song is amazing.. any how..|||  F3  Throwback to 1995.|||Reminds me of the barista at my local Starbucks. Still checking if he is going to do some more rad art work and what's next in his life. lol|||  Bono is rumoured to be an ENFJ as well :)|||yeah, that's the correct way to put. I felt my post was rather unbalanced. The one male ENFP I know is an excellent photographer & very reliable when it comes to delievering his work. I think it was...|||Yes, that's what I was conveying. Glad it made sense :)|||Really :tongue:  I think about the 2 ENFP friends I have (well one isn't a friend anymore by virtue of the total lack of effort she puts in our friendship). They amass so many friends very quickly....|||Is it me, or do other ENFJs have trouble opening up? I find it takes forever for me to actual talk about myself as a person unless someone asks direct questions - but, who the heck does that? :P|||Mostly jealous of their social acumen. They walk into a room & trump all the efforts of other people (namely ENFJs), through their charisma and larger-than-life personalities.  I find they say alot...|||I agree with what Gilly said - point on.   I find that people simply do not directly ask questions about me. I think it is refreshing for ENFJs to be able to talk about themselves. We value...|||1. A big party that will have mostly acquaintances and strangers. There is alcohol, food, and music, but the point is to mainly talk to others.  I would likely be tired thinking about this event,...|||part in bold - Something tells me that you feel disappointed about this or at least confused that he wanted to stay-in-touch, but chooses not to initiate contact. If he isn't choosing to contact you,...|||Thanks for sharing, Gilly.   Well, I believe in my 30's I started to care less about fitting in and pleasing other people's whims, particularly people who wanted me to change. I also became much...|||I didn't read the link yet. I had a best friend that is a ESTJ. Very controlling and unable to accept new ways of doing things. It was her way or the highway. I also felt she cared too much about...|||Thanks for the reply. I like how you helped me work that out, ENFJ brother.|||Have you tried an I feel statement? Basically, you would explain how you feel without implicating him. So, you could say something like, I feel _______________ (frustrated, rejected, shut down...||| yes, good observation. There were other reasons he didn't want to share with me... I often wonder why he would not want to. I typically don't see ESFJs as very private people.   Thanks for...|||Couldn't agree more with all that is posted here. Don't over complicate things. Start with FB & then a coffee before moving on to something more. Honestly, if she does not want to talk to you she...|||Yes, during times of frustration I feel the same. Before I reach out to someone I ask myself, if they aren't there for me when I need them will I be ok with helping them now?. This help me put...|||Question for my ENFJ brothers and sisters...  how do you get over a breakup especially with someone you still have great memories with and truly loved? I still my ex ESFJ boyfriend and it is been...|||I would not worry at all. He also told you not to worry - trust him! The thing is he knows to know she needs to own her feelings and that he isn't responsible for them. It is important that you...|||When I look back on when I met the ESFJ I once dated, he was immediately affectionate with me. Reached for my hand, kissed me - very obvious. When we spoke he listened to me intently & asked me some...|||<--- new picture of me. By new it is a year old, but I haven't changed in years...|||Just watched the trailer. I cannot decide from the ity-bity-clip if he's an ENFJ. Looks like an awesome movie!!|||Mr Selfridge (my newest love) Fresh Prince of Bel - Air Star Trek the Next Generation (thanks to my INFP sister) Breaking Bad (whole season is fantastic) Top Chef  I don't have a lot of time to...|||It's been a while ENFJs :)   I am curious to know how your views on relationships (romantic, familial, friendships, colleagues) has changed over the course of your life. A broad question that can...|||Not as popular as ENFPs though. I find that if their is an ENFP in the room they will outshine us. People just gravitate towards them!   I think if we need to take care of the needs of the group,...|||It used to bother me in the past, but knowing that I dislike (not hate, I cannot say I hate anyone) some people, I am comfortable knowing that others would also dislike me. I used to have a sense of...|||Great question.   -I had a little school on the block. I would make worksheets, buy all kinds of supplies for my stickers, & fix the boo-boos of the little kids. Is it surprising that I am a...|||Normally I do not like beards on men. However, when it comes to Mr. Selfridge I'd make an exception. It looks really sexy. Well groomed and suits him well. My ex also looked very hot with a beard :)...'\", \"'Loved it.  The kids are growing up and there are more adult themes in the movie.  I was also very happy to hear a Nick Cave song on the soundtrack, in the Harry/Hermione dance scene.  I've been a...|||I wonder if there are any Europeans on the site who could offer their opinions on the subject.  I think this need to be constantly smiling, constantly showing a 'positive,' 'upbeat' attitude is a...|||When I was younger, I had more energy and it would take me less time to recharge after social interactions and/or work or school days.  Now that I'm in my 40s (horrors!), I find it can take me...|||I periodically get asked this question, too.  Over the years, I've come to understand that it has more to do with my facial structure than anything.  When not smiling, I just naturally have a...|||You know you're an introvert when you'd much rather spend the day by yourself, doing your own thing, rather than trying to coordinate with a bunch of other people... all those icky people. :wink: ...|||My taste in love songs always lists to the sadder side, although sometimes a little happy sneaks in there, too.    ...|||Another atheist INFJ.  Also a secular humanist.  I've seen the damage that repressive christian moralistic thinking can do, so I choose to stay away from it.  I know not every religious person is a...|||Yeah, I wrote a paper on the Handmaid's Tale in my early college days.  I don't like her sci-fi/futuristic stuff so much, though.  The Robber Bride and Cat's Eye remain my two favorites of hers, as...|||Wow.  Well, shucks.  I don't think I've ever intimidated anyone before.  I've always kind of wanted to be perceived as a femme fatale, but I think I'm about as fatale as an after dinner mint...heh. ...|||Well, I like discussing feelings to a certain extent, but I guess not as thoroughly as some here do.  Nor am I into types so much that I think about them with every interaction I have with another...|||Introvert here.  Having dated and been in relationships with my share of both introverts and extroverts, my preference is usually for introverts like me.  When it comes to making friends, though, I...|||Did I really need to take a test to prove my atheism?  ...Ok, yeah, apparently I did.  I'm an Ardent Atheist too.  Big surprise. :dry:|||Hi kids.  Thirtiesgirl here...again.  INFJ, for those to whom that matters. :wink:  I've been futzing around some other online forums but mostly coming up lacking.  I thought I'd revisit this one...|||That's a very aquarian thing to do.  :wink:  My sun sign is Aries.  I don't know my moon or ascendant.  I had my chart done once, ages ago, and I recall there was a lot of pisces in it, so maybe...|||Ugh.  I hate that I identify with this so much.  This being RomanticEditor's original post.  It's very true for me, and I so wish it wasn't.  I've been away from this forum for a few weeks,...|||The only thing I like on a man:     The only thing I like on a woman (well, me): ...|||I would agree with this. My advice would be to date her for a while before making your decision.  Just for reference, since some people can be confused by what exactly 'dating' is, dating means doing...|||Cthulhu, you both frighten and amaze me with your mad posting skillz.  Therefore, I present this gift to you which I believe is suitable for a giant robotic cephalopod monster god.  May you enjoy it....|||I guess I missed this one the first time around.    Personal ~  * Name - What do you preferred to be called? Any nicknames? Thirtiesgirl is just fine, thanks.  * Male/Female/Trans?|||A lot of good advice here.  I'd second the advice to stay with friends or relatives and to call 911 if you or siblings feel unsafe.  But most of all, know this:  you did the right thing.  You felt...|||Ah, I see.  Well, since your gut is telling you he's a good guy, maybe give him those 3 months with you in California and see how things go.  If he starts working on finding employment in a...|||I know it might not sound helpful, but I think you look just fine the way you are.  What I see in your pics is a cute young guy.  If I was in your age group, I'd probably go for you.    Consider...|||I thought I'd post a couple of blog entries by Lesley Kinzel over at Fatshionista! on the subject of Lady Gaga.  Lesley does some pop culture analysis of Gaga's videos for Alejandro and...|||I would say this is very good advice.  The asshole you were involved with didn't love you.  He needed to control and degrade you.  That's not any kind of healthy love.  In addition, I would advise...|||Libertarian, all the way.  Government's nose, and my neighbors', do not belong in my business.|||       not the sexual explicitness that bothers me.  What bothers me is 'art' created specifically for sexual objectification.  There doesn't seem to be any other point to the pics you posted aside for...|||I don't mean to be an editorial bitch, but can we keep the hypersexualized Disney crud out of this thread?  That's not really what it's about.  And I hope to hell no one posts any H.R. Geiger,...|||I know it can seem surprising, but gay guys can be just as sexist as straight guys and have certain beliefs about how women should present themselves.  I had a close gay guy friend a few years ago...|||  Originally written by Galaxie 500, Dean Wareham's other band.|||Love it!  Thanks for sharing!     ...'Scuse me.  Ahem.  Beetlejuice, Beetlejuice, Beetlejuice.|||Ooo, pretty.  ...And yay for Heronymous Bosch (xToXiCx posted).  For those of you who like children's book drawings, particularly of fairies & c., you might enjoy Australian illustrator Ida Rentoul...|||I love architecture, too.  Specifically Antonio Gaudi and Frank Lloyd Wright.  Gaudi   ...|||I'm also a fan of photography, particularly Diane Arbus.  I love some of the unique people she used as photographic subjects. ...|||I met my friend Alicia St. Rose in college when she was an art studio major.  A few years after college, she got into photorealism and started doing pastels.  These days, she's no longer doing...|||I'm also a fan of current modern painters, like Camille Rose Garcia:   ...|||I'm a museum-goer and art lover, so I thought it might be nice to start a thread for art work you love.  Not member-created art work, but art work you love created by other people.  This can include...|||I wouldn't necessarily advise staying away from him, but limit your time with him.  As I wrote above, if he's interested, he needs to step up and take action instead of doing all these...|||If the guy is really serious about finding a date (although I have my reservations about dating people you work with), he needs to approach his interest directly and ask her to lunch or out for...|||I've never had anyone tell me that I act like a fictional character, except for an ex-boyfriend who told me that I reminded him of Daria's friend Jane, from the Daria cartoon on Mtv.  He was also...|||Fargo Miller's Crossing Cabaret  Honorable mention: O Brother, Where Art Thou?; Chicago (yeah, I like the Coens ...and the '30s)|||As an English lit major in college who later went on to get her MA in educational counseling, I say go for it.  If I'd had the presence of mind to study two things I enjoyed in college, instead of...|||Throwing Muses, Colder, from their album House Tornado.  There aren't any good video clips of this on Youtube, so I'll post a link to an mp3: ...|||Fluevogs.  I heart them.     worked in education since 2000.  I've been a substitute teacher and full-time teacher for the Los Angeles Unified School District.  I'm now a school counselor, which I've been doing since 2005. ...|||I'm a secular humanist and an atheist.  I pray to the church of me.|||I'm a big Neko Case fan, ever since I saw her open for Nick Cave nearly 10 years ago.  I love her voice, and love the song you posted.  Currently listening to: YouTube - The Raveonettes - Black /...|||Ugh.  I hate this.  Sometimes when I go out for drinks with friends and they get a little tipsy, I'll tell them to take it easy and get ok, mom back in return.  Said with large amounts of sarcasm...|||I'll repeat what I wrote in the INTJ forum, since I'm still on the fence between TJ or FJ.  As a thirtiesgirl, I love 1920s and '30s style and decor.  I love the  drapey and dramatic fashions, and...|||I'm still trying to decide if I'm an INFJ.  As I've written elsewhere on the forum, I recently took a Myers-Briggs test and was typed as an INTJ.  I've gotten that result before on other quickie...'\", \"'Only the best video game soundtrack ever    too find war a fascinating subject to study and observe, but I'd never join an army because I believe the government abuses their power over you even more if you do. They may pay you slightly more...|||I like to cook. I think it's fun to learn new recipes and change them to my tastes, plus I find that if you put some effort into preparing your food, it appears to taste better. That being said, I do...|||I don't see the point in visiting the grave of a loved one, though I've visited graveyards because it can conjure a pensive mood in regards to death and loss.|||Has anyone really been far even as decided to use even go want to do look more like?|||Your mom.  Something you're likely to find in Africa.|||I can definitely relate to your story. It can be really hard to stay motivated when you feel misunderstood.  First off, drop the medication. It has side effects which will make you feel shittier...|||Stocking shelves for the weekend at a supermarket every friday evening, together with a friend. I was about 16.  Since we came in when everyone was almost at the end of their work day, they didn't...|||rejected commercialized education  INTP|||I think it's utterly ridiculous. In a romantic relationship of any type, both parties should strive to treat eachother as equals.|||stopped reading there|||I tried that sort of thing for a few months, but after 3 of these encounters I decided it gave me little satisfaction and stopped doing it.|||- have murderous thoughts when you see someone using a word wrongly  - cry when someone calls out your flawed logic  - like cats  - attract crazy people who mistake our open-mindedness for...|||>2016 >worrying about politics  You can change how these thieves and liars operate, simply by not playing by their rules. There's no use to crying about elections when you keep partaking in the...|||unlearn everything they crammed into your poor head.|||have some of that next level futuristic stuff (might wanna put some headphones on)      ...|||not sure about these types, but here's what I came up with:  Mother - ESFJ Father - XSTJ Sister - INFJ|||I lean towards instrumental music for the most part, but some nicely selected vocal samples can really bring out the best in a track when used wisely and with moderation. example: ...|||only barely, the lowest audible frequency is about 20Hz|||I'm fond of low frequencies when it comes to sound waves.|||probably not, they seem too slow|||Count me in.|||Probably say yeah sure and never follow through.|||I try to always be respectful towards people, even if I don't like them. When people start to annoy me though, I actively start to break away from them (by reducing my input into conversation to...|||Been putting far to many hours into Unturned. Mainly because it runs on my laptop and I don't have money for a gaming pc and games.|||500666  just thinking about kittens and the purpose of my existence|||I had my first girlfriend at 17 (we just went on 1 date and decided to be together) and I tried the whole dating thing for the first time at 25, in the sense that I was going out with girls and...|||1. Do you do it? I avoid it 2. How often? Only when I'm really hungry and there are no other options 3. Do you enjoy it? No, I don't feel at ease in these situations for many reasons 4. What...|||For the most part quiet and observant, trying to make sense of my classmates' immaturity on many levels. Had no true friends at school, only some people who I hung out with out of boredom. Schoolwork...|||I'd guess about 75yrs, depending on health conditions and accidental contact with stray humans.|||Abracadabra I also have trouble maintaining the habit of doing full yoga routines, but it does work greatly.  As for your statement on INTPs naturally meditating all the time when thinking,...|||OneMind In my opinion, Locke qualifies as an INTP. He most definitely utilizes his intuition a lot and takes things as they come without judging, so ISTJ just doesn't seem right for him.|||Pantheism, yo.|||I'm open to the idea of having kids, but I'm not the kind of person to think it's absolutely necessary to have them just to fit in with society's expectations. If I'm ever having kids, it'll have to...|||appear in people's dreams and spout random fake prophecies so they'll take radical action for no reason|||I would nod at them in an understanding way, maybe offer a puff of my joint if they seemed particularly cool.|||1. What is a good person like to you? Open minded and open hearted. Nurturing and stimulating to people around them. 2. Would you consider yourself to be a good person? Getting there, my mind is...|||This. Secluded places in general attract me. I also enjoy wandering the streets late at night.|||Do I study philosophy? I AM PHILOSOPHY|||I like yoga because it doesn't require anything other than my own body to practice. Other than that I don't have a car so I bike around a lot. Competitive sports aren't really fun to me.|||I dislike organized religion as a rule, but over the past few years I've been exploring spirituality. After learning from multiple religions and philosophies, I'd define myself as a pantheist (the...|||Burial feels are the best feels    Also, Chopin   trick that usually works for me is being the DJ at said nightclub|||lol jobs.|||exactly|||I always had trouble memorizing stupid stuff like vocabulary. Languages are meant to be learned through immersion and experience, just like most other things. Fuck schools, choose your own learning...|||it's gotten me laid a few times so far without really spending a lot of time on there and they were pretty interesting people too. hell, i might even have found someone on there who i'd consider gf...|||here's some future minimalistic stuff I really like (use headphones pls)      ...|||I don't cry much at all, but the other day I was watching Chaplin's speech in The Great Dictator for some reason and it hit me hard while my shields were down. It's mostly things like that that make...|||I don't cry very often, but I do have a few things that get my mood really low really fast:  1. injustice 2. ignorance 3. witnessing great selfishness 4. being misunderstood 5. being judged in...'\"]\n",
      "[nltk_data] Downloading package punkt to /root/nltk_data...\n",
      "[nltk_data]   Unzipping tokenizers/punkt.zip.\n",
      "[nltk_data] Downloading package stopwords to /root/nltk_data...\n",
      "[nltk_data]   Unzipping corpora/stopwords.zip.\n",
      "[nltk_data] Downloading package wordnet to /root/nltk_data...\n",
      "[nltk_data]   Unzipping corpora/wordnet.zip.\n",
      "[==================================================] 100.0% 387.1/387.1MB downloaded\n",
      "Predicted Personality Type: F\n"
     ]
    }
   ],
   "source": [
    "# Code to download file into Colaboratory:\n",
    "!pip install -U -q PyDrive\n",
    "from pydrive.auth import GoogleAuth\n",
    "from pydrive.drive import GoogleDrive\n",
    "from google.colab import auth\n",
    "from oauth2client.client import GoogleCredentials\n",
    "# Authenticate and create the PyDrive client.\n",
    "auth.authenticate_user()\n",
    "gauth = GoogleAuth()\n",
    "gauth.credentials = GoogleCredentials.get_application_default()\n",
    "drive = GoogleDrive(gauth)\n",
    "\n",
    "id = '16g474hdNsaNx0_SnoKuqj2BuwSEGdnbt'\n",
    "downloaded = drive.CreateFile({'id':id}) \n",
    "downloaded.GetContentFile('training_data.csv')  \n",
    "\n",
    "id = '1-7hj0sF3Rc5G6POKdkpbDXm_Q6BWFDPU'\n",
    "downloaded = drive.CreateFile({'id':id}) \n",
    "downloaded.GetContentFile('testing_data.csv')  \n",
    "\n",
    "import pandas as pd\n",
    "training_data = pd.read_csv(\"/content/training_data.csv\")\n",
    "testing_data = pd.read_csv(\"/content/testing_data.csv\")\n",
    "\n",
    "training_posts=training_data['posts'].tolist()\n",
    "training_labels=training_data['type'].tolist()\n",
    "testing_posts=testing_data['posts'].tolist()\n",
    "testing_labels=testing_data['type'].tolist()\n",
    "\n",
    "import re\n",
    "training_posts_no_url, testing_posts_no_url = [], []\n",
    "for i in training_posts:\n",
    "    result = re.sub(r\"http\\S+\", \"\", i)\n",
    "    training_posts_no_url.append(result)\n",
    "for j in testing_posts:\n",
    "    result = re.sub(r\"http\\S+\", \"\", j)\n",
    "    testing_posts_no_url.append(result)\n",
    "print(testing_posts_no_url[:5])\n",
    "\n",
    "import re\n",
    "import nltk\n",
    "nltk.download('punkt')\n",
    "from nltk.tokenize import word_tokenize\n",
    "nltk.download('stopwords')\n",
    "from nltk.corpus import stopwords as sw\n",
    "stop_words = sw.words('english')\n",
    "from nltk.stem.porter import *\n",
    "stemmer = PorterStemmer()\n",
    "from nltk.stem import WordNetLemmatizer\n",
    "nltk.download('wordnet')\n",
    "lemmatizer = WordNetLemmatizer()\n",
    "\n",
    "import numpy as np\n",
    "from sklearn.preprocessing import LabelEncoder\n",
    "\n",
    "def remove_number(x):\n",
    "    x =  re.sub(r'[0-9]+', '', x)\n",
    "    return x\n",
    "def remove_punctuation_re(x):\n",
    "    x = re.sub(r'[^\\w\\s]', '', x)\n",
    "    return x\n",
    "def pre_process(input_list):\n",
    "    # Converting to lower case\n",
    "    lower = [s.lower() for s in input_list]\n",
    "    # Removing number \n",
    "    remove_num = [remove_number(s) for s in lower]\n",
    "    # Removing punctuation\n",
    "    remove_pun = [remove_punctuation_re(s) for s in remove_num]\n",
    "    # Tokenization \n",
    "    Tokenized = [word_tokenize(s) for s in remove_pun]\n",
    "    # Removing stop words\n",
    "    remove_sw = []\n",
    "    for tokens in Tokenized:\n",
    "        filtered_sentence = [w for w in tokens if not w in stop_words]\n",
    "        remove_sw.append(filtered_sentence)\n",
    "    # Stemming\n",
    "    result = []\n",
    "    for tokens in remove_sw:\n",
    "        stemmed = [stemmer.stem(s) for s in tokens]\n",
    "        result.append(stemmed)\n",
    "    return result\n",
    "\n",
    "unique_labels = np.unique(training_labels)\n",
    "lEnc = LabelEncoder()\n",
    "training_labels_encoded = lEnc.fit_transform(training_labels)\n",
    "testing_labels_encoded = lEnc.transform(testing_labels)\n",
    "n_class = len(unique_labels)\n",
    "\n",
    "\n",
    "training_posts_no_url_processed = pre_process(training_posts_no_url)\n",
    "testing_posts_no_url_processed = pre_process(testing_posts_no_url)\n",
    "\n",
    "emb_list = []\n",
    "for i in training_posts_no_url_processed:\n",
    "    emb_list.append(i)\n",
    "for j in testing_posts_no_url_processed:\n",
    "    emb_list.append(j)\n",
    "\n",
    "# Download Embedding model from gensim\n",
    "import gensim.downloader as api\n",
    "word_emb_model_2 = api.load(\"glove-twitter-100\")\n",
    "\n",
    "word_set = set() \n",
    "for sent in emb_list:\n",
    "    for word in sent:\n",
    "        word_set.add(word)\n",
    "\n",
    "word_set.add('[PAD]')\n",
    "word_set.add('[UNKNOWN]')\n",
    "\n",
    "word_list = list(word_set) \n",
    "word_list.sort()\n",
    "word_index = {}\n",
    "ind = 0\n",
    "for word in word_list:\n",
    "    word_index[word] = ind\n",
    "    ind += 1\n",
    "\n",
    "import numpy as np\n",
    "\n",
    "emb_dim = word_emb_model_2.vector_size\n",
    "emb_table = []\n",
    "for i, word in enumerate(word_list):\n",
    "    if word in word_emb_model_2:\n",
    "        emb_table.append(word_emb_model_2[word])\n",
    "    else:\n",
    "        emb_table.append([0]*emb_dim)\n",
    "emb_table = np.array(emb_table)\n",
    "    \n",
    "# Padding & Encoding\n",
    "seq_length = 100\n",
    "def encode_and_add_padding(sentences, seq_length, word_index):\n",
    "    sent_encoded = []\n",
    "    for sent in sentences:\n",
    "        temp_encoded = [word_index[word] if word in word_index else word_index['[UNKNOWN]'] for word in sent]\n",
    "        if len(temp_encoded) < seq_length:\n",
    "            temp_encoded += [word_index['[PAD]']] * (seq_length - len(temp_encoded))\n",
    "        sent_encoded.append(temp_encoded[:100])\n",
    "    return sent_encoded\n",
    "\n",
    "train_pad_encoded_no_url = encode_and_add_padding(training_posts_no_url_processed, seq_length, word_index )\n",
    "test_pad_encoded_no_url = encode_and_add_padding(testing_posts_no_url_processed, seq_length, word_index )\n",
    "\n",
    "vocab_size = len(word_list)\n",
    "total_epoch = 100\n",
    "learning_rate = 0.001\n",
    "\n",
    "import torch\n",
    "device = torch.device(\"cuda\" if torch.cuda.is_available() else \"cpu\")\n",
    "import numpy as np\n",
    "import torch.nn as nn\n",
    "import torch.nn.functional as F\n",
    "import torch.optim as optim\n",
    "from sklearn.metrics import accuracy_score\n",
    "\n",
    "class Model(nn.Module):\n",
    "    def __init__(self):\n",
    "        super(Model, self).__init__()\n",
    "        self.emb = nn.Embedding(vocab_size, emb_dim)\n",
    "        self.emb.weight.data.copy_(torch.from_numpy(emb_table))\n",
    "        self.emb.weight.requires_grad = False\n",
    "        n_hidden = 50\n",
    "        self.lstm = nn.LSTM(emb_dim, n_hidden, batch_first =True, bidirectional=True)\n",
    "        self.linear = nn.Linear(n_hidden*2, n_class)\n",
    "\n",
    "    def forward(self, x):\n",
    "        x = self.emb(x)\n",
    "        lstm_out, (h_n, c_n) = self.lstm(x)\n",
    "        hidden_out = torch.cat((h_n[0,:,:],h_n[1,:,:]),1)\n",
    "        z = self.linear(hidden_out)\n",
    "        return z\n",
    "\n",
    "model = Model().to(device)\n",
    "criterion = nn.CrossEntropyLoss()\n",
    "optimizer = optim.Adam(model.parameters(), lr=learning_rate)\n",
    "\n",
    "#@title Personality Type Prediction\n",
    "# Code to download file into Colaboratory:\n",
    "!pip install -U -q PyDrive\n",
    "from pydrive.auth import GoogleAuth\n",
    "from pydrive.drive import GoogleDrive\n",
    "from google.colab import auth\n",
    "from oauth2client.client import GoogleCredentials\n",
    "auth.authenticate_user()\n",
    "gauth = GoogleAuth()\n",
    "gauth.credentials = GoogleCredentials.get_application_default()\n",
    "drive = GoogleDrive(gauth)\n",
    "\n",
    "\n",
    "id = '1PgbZlcjAvMIRcqLvq5jOqyCmpDmF_ZLf'\n",
    "downloaded = drive.CreateFile({'id':id}) \n",
    "downloaded.GetContentFile('bi_LSTM.pt') \n",
    "text = \"\" #@param {type:\"string\"}\n",
    "text = re.sub(r\"http\\S+\", \"\", text)\n",
    "text = pre_process([text])\n",
    "text_input = encode_and_add_padding(\n",
    "    text, \n",
    "    seq_length, \n",
    "    word_index)\n",
    "model = torch.load(\n",
    "     '/content/bi_LSTM.pt'\n",
    "    )\n",
    "input_torch = torch.from_numpy(\n",
    "    np.array(text_input)).to(device)\n",
    "outputs = model(input_torch) \n",
    "predicted = torch.argmax(outputs, -1)\n",
    "output = \"T\" if predicted.cpu().numpy()[0] == 1 else \"F\"\n",
    "print(\"Predicted Personality Type: {}\".format(output))"
   ]
  },
  {
   "cell_type": "markdown",
   "metadata": {
    "id": "sfv8rWTKPzeb"
   },
   "source": [
    "# Object Oriented Programming codes here"
   ]
  },
  {
   "cell_type": "markdown",
   "metadata": {
    "id": "TS23AjBRSZaX"
   },
   "source": [
    "*You can use multiple code snippets. Just add more if needed* "
   ]
  },
  {
   "cell_type": "code",
   "execution_count": null,
   "metadata": {
    "id": "1hVmx4E52dXS"
   },
   "outputs": [],
   "source": []
  }
 ],
 "metadata": {
  "accelerator": "GPU",
  "colab": {
   "collapsed_sections": [],
   "machine_shape": "hm",
   "name": "jlai6523_COMP5046_Ass1_2022.ipynb",
   "provenance": []
  },
  "kernelspec": {
   "display_name": "Python 3",
   "language": "python",
   "name": "python3"
  },
  "language_info": {
   "codemirror_mode": {
    "name": "ipython",
    "version": 3
   },
   "file_extension": ".py",
   "mimetype": "text/x-python",
   "name": "python",
   "nbconvert_exporter": "python",
   "pygments_lexer": "ipython3",
   "version": "3.9.6"
  }
 },
 "nbformat": 4,
 "nbformat_minor": 1
}
